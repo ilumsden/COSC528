{
 "cells": [
  {
   "cell_type": "code",
   "execution_count": 1,
   "metadata": {},
   "outputs": [],
   "source": [
    "import numpy as np"
   ]
  },
  {
   "cell_type": "code",
   "execution_count": 2,
   "metadata": {},
   "outputs": [],
   "source": [
    "from network import Network"
   ]
  },
  {
   "cell_type": "code",
   "execution_count": 3,
   "metadata": {},
   "outputs": [
    {
     "name": "stdout",
     "output_type": "stream",
     "text": [
      "4601\n",
      "(4601, 58)\n"
     ]
    },
    {
     "data": {
      "text/plain": [
       "array([[0.000e+00, 6.400e-01, 6.400e-01, ..., 6.100e+01, 2.780e+02,\n",
       "        1.000e+00],\n",
       "       [2.100e-01, 2.800e-01, 5.000e-01, ..., 1.010e+02, 1.028e+03,\n",
       "        1.000e+00],\n",
       "       [6.000e-02, 0.000e+00, 7.100e-01, ..., 4.850e+02, 2.259e+03,\n",
       "        1.000e+00],\n",
       "       ...,\n",
       "       [3.000e-01, 0.000e+00, 3.000e-01, ..., 6.000e+00, 1.180e+02,\n",
       "        0.000e+00],\n",
       "       [9.600e-01, 0.000e+00, 0.000e+00, ..., 5.000e+00, 7.800e+01,\n",
       "        0.000e+00],\n",
       "       [0.000e+00, 0.000e+00, 6.500e-01, ..., 5.000e+00, 4.000e+01,\n",
       "        0.000e+00]])"
      ]
     },
     "execution_count": 3,
     "metadata": {},
     "output_type": "execute_result"
    }
   ],
   "source": [
    "data = np.loadtxt(\"spambase.data\", delimiter=\",\")\n",
    "print(len(data))\n",
    "print(data.shape)\n",
    "data"
   ]
  },
  {
   "cell_type": "code",
   "execution_count": 4,
   "metadata": {},
   "outputs": [
    {
     "name": "stdout",
     "output_type": "stream",
     "text": [
      "Num test should be 920\n",
      "train inds: [4302 3212  872 ... 2421 1416 4454] (3680,)\n",
      "test inds: [   0    8    9   11   12   13   15   23   28   29   37   38   47   51\n",
      "   58   60   61   69   79   81   83   88   93  100  109  110  116  120\n",
      "  121  123  125  127  130  132  138  152  155  156  157  167  169  172\n",
      "  173  178  179  183  184  186  189  190  195  212  213  228  234  243\n",
      "  266  267  271  278  283  288  289  291  293  297  298  303  317  331\n",
      "  333  343  345  346  347  349  358  367  368  370  376  377  385  388\n",
      "  391  395  407  428  429  430  433  437  442  444  448  459  464  474\n",
      "  480  481  482  484  486  488  501  503  505  508  519  525  530  535\n",
      "  543  548  560  590  591  596  597  599  603  604  610  612  614  616\n",
      "  626  634  641  646  651  658  659  662  668  671  672  673  679  687\n",
      "  689  692  701  703  704  709  711  712  721  724  734  735  747  753\n",
      "  755  757  769  770  775  777  781  788  789  792  795  805  811  818\n",
      "  821  829  835  836  839  842  859  862  870  876  880  886  893  901\n",
      "  906  917  920  923  932  933  937  939  945  952  953  957  961  964\n",
      "  971  975  977  986  987  991 1004 1009 1012 1016 1031 1037 1039 1042\n",
      " 1049 1053 1056 1058 1061 1066 1073 1080 1085 1097 1104 1105 1116 1117\n",
      " 1120 1121 1124 1127 1131 1132 1135 1137 1140 1143 1151 1156 1160 1164\n",
      " 1172 1176 1182 1184 1186 1191 1193 1195 1205 1208 1213 1225 1227 1230\n",
      " 1239 1242 1244 1245 1246 1250 1253 1256 1258 1260 1265 1269 1272 1292\n",
      " 1295 1297 1304 1307 1316 1320 1321 1325 1335 1357 1359 1362 1363 1377\n",
      " 1382 1392 1407 1414 1415 1419 1420 1426 1430 1434 1437 1439 1441 1447\n",
      " 1452 1457 1460 1463 1468 1471 1473 1477 1479 1481 1485 1487 1488 1489\n",
      " 1490 1492 1508 1512 1518 1529 1535 1538 1545 1546 1547 1552 1554 1555\n",
      " 1560 1562 1565 1569 1579 1581 1589 1590 1593 1602 1612 1613 1621 1629\n",
      " 1634 1635 1646 1650 1652 1658 1664 1669 1702 1707 1712 1716 1719 1722\n",
      " 1739 1743 1750 1752 1761 1777 1779 1780 1782 1783 1784 1788 1794 1798\n",
      " 1802 1804 1807 1812 1815 1823 1824 1830 1838 1846 1850 1851 1854 1858\n",
      " 1868 1871 1875 1878 1890 1892 1893 1896 1897 1900 1904 1908 1916 1917\n",
      " 1930 1932 1933 1939 1941 1945 1949 1957 1959 1960 1964 1966 1967 1972\n",
      " 1976 1980 1985 1986 1990 1992 2001 2002 2006 2010 2016 2018 2022 2028\n",
      " 2036 2043 2049 2055 2060 2062 2066 2067 2076 2080 2082 2098 2108 2110\n",
      " 2114 2116 2121 2124 2136 2142 2143 2148 2151 2159 2160 2161 2166 2167\n",
      " 2173 2175 2190 2191 2192 2201 2211 2218 2221 2223 2225 2235 2236 2240\n",
      " 2244 2247 2256 2259 2272 2282 2286 2288 2297 2308 2309 2312 2313 2316\n",
      " 2328 2330 2332 2333 2347 2355 2364 2376 2393 2395 2410 2416 2418 2422\n",
      " 2423 2426 2435 2441 2446 2448 2457 2458 2471 2475 2484 2486 2491 2498\n",
      " 2500 2506 2509 2510 2514 2524 2527 2533 2540 2551 2569 2570 2579 2580\n",
      " 2585 2600 2603 2610 2613 2614 2615 2623 2624 2625 2628 2629 2638 2647\n",
      " 2656 2657 2658 2661 2667 2671 2682 2686 2697 2698 2701 2706 2711 2714\n",
      " 2719 2728 2730 2735 2737 2760 2761 2771 2772 2776 2779 2780 2783 2784\n",
      " 2793 2794 2795 2798 2799 2801 2807 2822 2833 2838 2839 2840 2841 2842\n",
      " 2846 2847 2852 2862 2866 2877 2878 2879 2883 2889 2890 2895 2909 2919\n",
      " 2924 2927 2934 2935 2940 2948 2951 2955 2964 2965 2968 2969 2973 2980\n",
      " 2989 2991 2992 2995 2999 3003 3017 3033 3040 3047 3051 3054 3055 3057\n",
      " 3067 3069 3074 3077 3079 3088 3091 3093 3102 3108 3117 3124 3131 3141\n",
      " 3149 3154 3161 3165 3173 3184 3185 3188 3195 3196 3197 3199 3208 3210\n",
      " 3213 3214 3215 3218 3219 3224 3233 3250 3255 3256 3262 3267 3268 3270\n",
      " 3271 3282 3290 3295 3296 3297 3301 3309 3312 3320 3321 3323 3324 3338\n",
      " 3339 3346 3351 3352 3354 3355 3363 3369 3380 3384 3385 3395 3396 3401\n",
      " 3402 3408 3412 3414 3415 3425 3432 3436 3466 3467 3478 3481 3491 3503\n",
      " 3507 3509 3514 3515 3519 3520 3526 3527 3535 3537 3542 3546 3553 3557\n",
      " 3561 3568 3570 3571 3572 3575 3577 3579 3584 3597 3614 3616 3617 3619\n",
      " 3623 3628 3630 3634 3635 3636 3640 3642 3645 3648 3649 3655 3661 3676\n",
      " 3678 3681 3696 3701 3703 3705 3708 3709 3716 3720 3728 3742 3745 3746\n",
      " 3747 3752 3754 3755 3756 3757 3759 3767 3769 3771 3773 3783 3792 3795\n",
      " 3797 3806 3808 3815 3822 3830 3836 3840 3842 3847 3857 3860 3863 3872\n",
      " 3874 3875 3876 3878 3883 3886 3891 3900 3901 3904 3905 3908 3920 3928\n",
      " 3931 3933 3942 3947 3953 3962 3965 3967 3970 3971 3980 3982 3983 3990\n",
      " 3991 4002 4006 4007 4017 4021 4023 4027 4035 4045 4050 4074 4083 4084\n",
      " 4088 4091 4094 4107 4114 4116 4134 4139 4147 4148 4156 4163 4168 4180\n",
      " 4183 4193 4195 4201 4204 4208 4209 4211 4212 4216 4226 4240 4253 4255\n",
      " 4256 4268 4278 4279 4285 4286 4288 4290 4297 4304 4309 4310 4317 4330\n",
      " 4341 4343 4345 4350 4352 4353 4364 4370 4388 4394 4403 4410 4412 4414\n",
      " 4416 4420 4422 4423 4426 4429 4441 4447 4450 4451 4456 4470 4486 4487\n",
      " 4488 4493 4497 4499 4503 4505 4509 4516 4527 4529 4530 4531 4532 4537\n",
      " 4543 4548 4553 4571 4573 4578 4586 4592 4593 4595 4598] (921,)\n",
      "Training Data: [[0.000e+00 8.200e-01 0.000e+00 ... 4.300e+01 3.560e+02 0.000e+00]\n",
      " [5.000e-02 0.000e+00 1.100e-01 ... 4.700e+01 1.090e+03 0.000e+00]\n",
      " [4.500e-01 0.000e+00 6.700e-01 ... 1.020e+02 5.640e+02 1.000e+00]\n",
      " ...\n",
      " [3.100e-01 3.100e-01 9.400e-01 ... 4.500e+01 1.800e+02 0.000e+00]\n",
      " [0.000e+00 1.700e-01 0.000e+00 ... 8.500e+01 3.318e+03 1.000e+00]\n",
      " [0.000e+00 0.000e+00 1.060e+00 ... 7.300e+01 1.600e+02 0.000e+00]] (3680, 58)\n",
      "Testing Data: [[3.900e-01 4.600e-01 3.100e-01 ... 5.430e+02 2.424e+03 1.000e+00]\n",
      " [0.000e+00 0.000e+00 0.000e+00 ... 3.000e+00 1.200e+01 0.000e+00]\n",
      " [0.000e+00 0.000e+00 0.000e+00 ... 2.000e+01 1.810e+02 0.000e+00]\n",
      " ...\n",
      " [0.000e+00 0.000e+00 8.200e-01 ... 6.000e+00 4.200e+01 0.000e+00]\n",
      " [0.000e+00 0.000e+00 0.000e+00 ... 1.800e+01 6.400e+01 0.000e+00]\n",
      " [6.700e-01 0.000e+00 0.000e+00 ... 1.700e+01 1.120e+02 0.000e+00]] (921, 58)\n"
     ]
    }
   ],
   "source": [
    "div = len(data) // 5\n",
    "num_train = 4 * div\n",
    "print(\"Num test should be\", div)\n",
    "#train_inds = np.random.randint(len(data), size=num_train)\n",
    "train_inds = np.random.choice(range(len(data)), size=num_train, replace=False)\n",
    "print(\"train inds:\", train_inds, train_inds.shape)\n",
    "test_inds = np.setxor1d(np.array(range(len(data))), train_inds)\n",
    "#test_inds = np.array([i for i in range(len(data)) if i not in train_inds])\n",
    "print(\"test inds:\", test_inds, test_inds.shape)\n",
    "train_data = data[train_inds, :]\n",
    "test_data = data[test_inds, :]\n",
    "np.random.shuffle(test_data)\n",
    "print(\"Training Data:\", train_data, train_data.shape)\n",
    "print(\"Testing Data:\", test_data, test_data.shape)"
   ]
  },
  {
   "cell_type": "code",
   "execution_count": 5,
   "metadata": {},
   "outputs": [
    {
     "name": "stdout",
     "output_type": "stream",
     "text": [
      "Train Labels: [0. 0. 1. ... 0. 1. 0.] (3680,)\n",
      "Train Data: [[0.0000e+00 8.2000e-01 0.0000e+00 ... 7.4160e+00 4.3000e+01 3.5600e+02]\n",
      " [5.0000e-02 0.0000e+00 1.1000e-01 ... 2.7870e+00 4.7000e+01 1.0900e+03]\n",
      " [4.5000e-01 0.0000e+00 6.7000e-01 ... 4.9470e+00 1.0200e+02 5.6400e+02]\n",
      " ...\n",
      " [3.1000e-01 3.1000e-01 9.4000e-01 ... 2.3680e+00 4.5000e+01 1.8000e+02]\n",
      " [0.0000e+00 1.7000e-01 0.0000e+00 ... 4.2590e+00 8.5000e+01 3.3180e+03]\n",
      " [0.0000e+00 0.0000e+00 1.0600e+00 ... 1.3333e+01 7.3000e+01 1.6000e+02]] (3680, 57)\n",
      "Test Labels: [1. 0. 0. 1. 0. 1. 1. 0. 1. 0. 0. 1. 1. 0. 1. 0. 0. 0. 0. 1. 1. 0. 0. 1.\n",
      " 0. 0. 0. 0. 0. 1. 1. 1. 1. 1. 0. 1. 1. 0. 0. 1. 1. 0. 1. 0. 0. 0. 0. 0.\n",
      " 1. 0. 1. 1. 1. 0. 1. 1. 0. 1. 1. 0. 1. 0. 1. 1. 1. 1. 1. 0. 1. 1. 0. 1.\n",
      " 0. 1. 1. 0. 0. 0. 1. 1. 0. 0. 0. 0. 1. 1. 0. 0. 0. 1. 0. 1. 0. 0. 0. 1.\n",
      " 0. 0. 0. 0. 1. 0. 0. 0. 0. 1. 1. 0. 0. 1. 0. 1. 1. 0. 0. 0. 1. 0. 1. 0.\n",
      " 1. 0. 0. 1. 0. 0. 0. 1. 0. 0. 0. 0. 0. 1. 0. 0. 1. 1. 0. 0. 1. 1. 0. 1.\n",
      " 0. 0. 1. 1. 1. 0. 0. 0. 1. 0. 1. 0. 0. 0. 0. 0. 0. 0. 0. 0. 1. 1. 1. 0.\n",
      " 1. 0. 0. 0. 0. 1. 0. 1. 0. 0. 0. 1. 0. 1. 0. 0. 0. 0. 1. 1. 1. 0. 0. 0.\n",
      " 0. 1. 0. 0. 0. 1. 1. 0. 1. 0. 0. 0. 1. 1. 1. 0. 1. 0. 1. 0. 0. 0. 1. 0.\n",
      " 1. 0. 0. 1. 1. 0. 1. 0. 1. 1. 0. 0. 0. 0. 1. 0. 0. 1. 1. 0. 1. 1. 0. 1.\n",
      " 1. 0. 0. 1. 0. 0. 0. 0. 1. 0. 0. 1. 1. 0. 1. 0. 0. 0. 0. 1. 0. 0. 0. 0.\n",
      " 1. 0. 0. 1. 0. 0. 0. 1. 1. 0. 0. 0. 1. 0. 0. 1. 0. 1. 1. 0. 0. 0. 1. 0.\n",
      " 1. 0. 0. 0. 0. 1. 1. 0. 0. 0. 0. 1. 0. 1. 1. 1. 1. 0. 0. 0. 1. 1. 0. 0.\n",
      " 0. 1. 0. 0. 1. 0. 1. 0. 1. 0. 0. 0. 0. 0. 0. 0. 0. 1. 0. 0. 0. 0. 0. 0.\n",
      " 0. 0. 1. 1. 0. 1. 0. 1. 0. 1. 0. 1. 1. 1. 0. 1. 1. 0. 0. 0. 1. 0. 0. 0.\n",
      " 1. 1. 1. 0. 1. 1. 0. 0. 0. 1. 0. 1. 0. 0. 0. 1. 0. 0. 0. 0. 0. 0. 1. 0.\n",
      " 1. 0. 0. 0. 0. 0. 1. 0. 0. 0. 1. 0. 0. 1. 0. 0. 0. 0. 0. 1. 1. 0. 1. 1.\n",
      " 0. 1. 0. 0. 1. 1. 1. 1. 0. 1. 0. 0. 0. 0. 0. 1. 1. 1. 0. 0. 0. 1. 1. 1.\n",
      " 1. 1. 0. 1. 1. 0. 0. 0. 1. 0. 1. 0. 0. 0. 1. 1. 0. 0. 1. 0. 0. 0. 1. 0.\n",
      " 0. 0. 0. 0. 0. 1. 0. 0. 0. 1. 1. 0. 1. 1. 0. 0. 0. 0. 0. 1. 0. 0. 0. 1.\n",
      " 1. 0. 0. 0. 0. 1. 1. 0. 1. 0. 1. 0. 0. 0. 0. 0. 0. 0. 0. 0. 0. 0. 0. 1.\n",
      " 1. 0. 0. 1. 1. 0. 0. 0. 1. 1. 1. 1. 0. 0. 1. 0. 0. 0. 1. 1. 1. 1. 1. 1.\n",
      " 0. 0. 0. 1. 0. 0. 0. 0. 1. 0. 1. 0. 0. 0. 0. 1. 0. 1. 0. 1. 0. 1. 1. 0.\n",
      " 0. 0. 0. 1. 0. 1. 0. 1. 0. 1. 1. 0. 0. 1. 0. 0. 1. 0. 0. 0. 1. 0. 1. 0.\n",
      " 0. 1. 1. 0. 1. 1. 1. 0. 0. 0. 1. 1. 0. 0. 0. 1. 0. 0. 1. 0. 0. 0. 0. 1.\n",
      " 0. 0. 1. 0. 0. 1. 0. 1. 1. 1. 0. 0. 0. 0. 1. 0. 1. 0. 0. 0. 0. 1. 0. 0.\n",
      " 0. 1. 0. 1. 0. 1. 0. 0. 0. 1. 0. 1. 0. 1. 1. 0. 0. 1. 1. 1. 0. 0. 0. 1.\n",
      " 0. 0. 1. 1. 1. 1. 0. 0. 0. 0. 0. 0. 0. 0. 1. 1. 1. 1. 0. 0. 1. 0. 0. 1.\n",
      " 1. 0. 0. 0. 0. 1. 1. 1. 0. 0. 1. 1. 1. 1. 1. 1. 0. 0. 1. 1. 0. 0. 1. 0.\n",
      " 1. 1. 0. 0. 0. 1. 1. 0. 0. 1. 0. 1. 0. 0. 0. 1. 1. 0. 1. 1. 1. 0. 1. 1.\n",
      " 0. 0. 1. 1. 0. 1. 0. 0. 1. 1. 1. 1. 0. 0. 0. 1. 0. 0. 0. 0. 1. 1. 0. 1.\n",
      " 0. 0. 0. 0. 0. 0. 1. 0. 0. 0. 1. 1. 1. 0. 0. 0. 1. 0. 0. 0. 0. 1. 0. 0.\n",
      " 0. 1. 1. 0. 1. 0. 0. 0. 0. 0. 0. 1. 0. 1. 1. 0. 0. 1. 0. 1. 1. 0. 1. 0.\n",
      " 1. 0. 0. 1. 0. 0. 1. 0. 0. 1. 0. 1. 0. 1. 1. 1. 0. 0. 0. 1. 0. 1. 1. 1.\n",
      " 1. 0. 0. 0. 1. 0. 0. 1. 0. 0. 1. 0. 0. 0. 0. 1. 1. 1. 0. 1. 0. 0. 0. 1.\n",
      " 1. 1. 0. 0. 0. 1. 0. 0. 1. 0. 1. 1. 0. 0. 0. 0. 1. 1. 0. 0. 0. 0. 0. 0.\n",
      " 0. 0. 0. 1. 0. 1. 1. 0. 1. 0. 1. 1. 0. 1. 0. 0. 1. 0. 0. 0. 0. 0. 0. 1.\n",
      " 1. 1. 0. 1. 1. 0. 1. 1. 0. 1. 0. 0. 0. 1. 0. 0. 1. 0. 0. 0. 0. 0. 0. 0.\n",
      " 1. 0. 0. 0. 0. 1. 0. 0. 0.] (921,)\n",
      "Test Data: [[3.900e-01 4.600e-01 3.100e-01 ... 7.192e+00 5.430e+02 2.424e+03]\n",
      " [0.000e+00 0.000e+00 0.000e+00 ... 1.200e+00 3.000e+00 1.200e+01]\n",
      " [0.000e+00 0.000e+00 0.000e+00 ... 2.701e+00 2.000e+01 1.810e+02]\n",
      " ...\n",
      " [0.000e+00 0.000e+00 8.200e-01 ... 1.272e+00 6.000e+00 4.200e+01]\n",
      " [0.000e+00 0.000e+00 0.000e+00 ... 3.555e+00 1.800e+01 6.400e+01]\n",
      " [6.700e-01 0.000e+00 0.000e+00 ... 1.866e+00 1.700e+01 1.120e+02]] (921, 57)\n"
     ]
    }
   ],
   "source": [
    "train_labels = train_data[:, -1]\n",
    "train_data = train_data[:, :-1]\n",
    "test_labels = test_data[:, -1]\n",
    "test_data = test_data[:, :-1]\n",
    "print(\"Train Labels:\", train_labels, train_labels.shape)\n",
    "print(\"Train Data:\", train_data, train_data.shape)\n",
    "print(\"Test Labels:\", test_labels, test_labels.shape)\n",
    "print(\"Test Data:\", test_data, test_data.shape)"
   ]
  },
  {
   "cell_type": "code",
   "execution_count": 6,
   "metadata": {},
   "outputs": [],
   "source": [
    "def get_metrics(output, expected):\n",
    "    tn = 0\n",
    "    tp = 0\n",
    "    fn = 0\n",
    "    fp = 0\n",
    "    for o, e in zip(output, expected):\n",
    "        if o == e and o == 0:\n",
    "            tn += 1\n",
    "        elif o == e and o == 1:\n",
    "            tp += 1\n",
    "        elif o != e and o == 0:\n",
    "            fn += 1\n",
    "        else:\n",
    "            fp += 1\n",
    "    print(tn, tp, fn, fp)\n",
    "    accuracy = (tn + tp) / (tn + tp + fn + fp)\n",
    "    if tp + fn != 0:\n",
    "        tpr = tp / (tp + fn)\n",
    "    else:\n",
    "        tpr = 0\n",
    "        print(\"TPR could not be calculated.\")\n",
    "    if tp + fp != 0:\n",
    "        ppv = tp / (tp + fp)\n",
    "    else:\n",
    "        ppv = 0\n",
    "        print(\"PPV could not be calculated\")\n",
    "    if tn + fp != 0:\n",
    "        tnr = tn / (tn + fp)\n",
    "    else:\n",
    "        print(\"TNR could not be calculated\")\n",
    "    if ppv + tpr != 0:\n",
    "        f_1 = (2 * ppv * tpr) / (ppv + tpr)\n",
    "    else:\n",
    "        f_1 = 0\n",
    "        print(\"F1 Score could not be calculated\")\n",
    "    print(\"Accuracy:\", accuracy)\n",
    "    print(\"True Positive Rate:\", tpr)\n",
    "    print(\"Positive Predictive Value (Precision):\", ppv)\n",
    "    print(\"True Negative Rate:\", tnr)\n",
    "    print(\"F1 Score:\", f_1)"
   ]
  },
  {
   "cell_type": "code",
   "execution_count": 7,
   "metadata": {
    "scrolled": true
   },
   "outputs": [
    {
     "data": {
      "text/plain": [
       "'for act in [\"softmax\", \"linear\", \"sigmoid\"]:\\n    print(act)\\n    print(\"--------\\n\")\\n    for it in range(30, 61, 30):\\n        print(\"Num Iterations =\", it)\\n        for thresh in np.arange(0.2, 0.3, 0.05):\\n            print(\"Error Threshold =\", thresh)\\n            for delta in np.arange(0.001, 0.01, 0.005):\\n                print(\"Error delta =\", delta)\\n                for lr in np.arange(0.001, 0.01, 0.005):\\n                    print(\"Learning Rate =\", lr)\\n                    for nhpl in range(20, 60, 20):\\n                        print(\"Number of Hidden Nodes per layer =\", nhpl)\\n                        print()\\n                        nnet = Network(len(train_data[0]), 1, nhpl, 2, lr, act, it, thresh, delta)\\n                        nnet.train(train_data, train_labels)\\n                        output = nnet.estimate(test_data)\\n                        get_metrics(output, test_labels)\\n                        print()'"
      ]
     },
     "execution_count": 7,
     "metadata": {},
     "output_type": "execute_result"
    }
   ],
   "source": [
    "\"\"\"for act in [\"softmax\", \"linear\", \"sigmoid\"]:\n",
    "    print(act)\n",
    "    print(\"--------\\n\")\n",
    "    for it in range(30, 61, 30):\n",
    "        print(\"Num Iterations =\", it)\n",
    "        for thresh in np.arange(0.2, 0.3, 0.05):\n",
    "            print(\"Error Threshold =\", thresh)\n",
    "            for delta in np.arange(0.001, 0.01, 0.005):\n",
    "                print(\"Error delta =\", delta)\n",
    "                for lr in np.arange(0.001, 0.01, 0.005):\n",
    "                    print(\"Learning Rate =\", lr)\n",
    "                    for nhpl in range(20, 60, 20):\n",
    "                        print(\"Number of Hidden Nodes per layer =\", nhpl)\n",
    "                        print()\n",
    "                        nnet = Network(len(train_data[0]), 1, nhpl, 2, lr, act, it, thresh, delta)\n",
    "                        nnet.train(train_data, train_labels)\n",
    "                        output = nnet.estimate(test_data)\n",
    "                        get_metrics(output, test_labels)\n",
    "                        print()\"\"\""
   ]
  },
  {
   "cell_type": "code",
   "execution_count": 8,
   "metadata": {},
   "outputs": [],
   "source": [
    "from PCA import *"
   ]
  },
  {
   "cell_type": "code",
   "execution_count": 9,
   "metadata": {},
   "outputs": [],
   "source": [
    "norm_data = normalize(data)\n",
    "S, V = decomp(norm_data)"
   ]
  },
  {
   "cell_type": "code",
   "execution_count": 10,
   "metadata": {},
   "outputs": [
    {
     "data": {
      "image/png": "[encoded data removed]",
      "text/plain": [
       "<Figure size 432x288 with 1 Axes>"
      ]
     },
     "metadata": {
      "needs_background": "light"
     },
     "output_type": "display_data"
    }
   ],
   "source": [
    "graph_scree(S)"
   ]
  },
  {
   "cell_type": "code",
   "execution_count": 11,
   "metadata": {},
   "outputs": [
    {
     "data": {
      "text/plain": [
       "array([[ -17.47770111,   69.35200907,  135.05743232,  -35.07923995,\n",
       "         -22.84604232],\n",
       "       [ -58.45943292,  225.62546653,  441.8147653 , -113.25882877,\n",
       "         -67.16022809],\n",
       "       [-137.30507949,  549.69726657, 1093.75567067, -283.53430034,\n",
       "        -182.3933178 ],\n",
       "       ...,\n",
       "       [  -6.58771436,   25.13529107,   48.24907091,  -11.78240406,\n",
       "          -7.37582566],\n",
       "       [  -4.54504484,   17.01227793,   32.03119897,   -7.99490293,\n",
       "          -4.88878579],\n",
       "       [  -2.82154499,    9.90607075,   16.82340964,   -3.49032197,\n",
       "          -2.22601868]])"
      ]
     },
     "execution_count": 11,
     "metadata": {},
     "output_type": "execute_result"
    }
   ],
   "source": [
    "pcs = get_pc(V, 5)\n",
    "pca_data = reduce_data(data, pcs)\n",
    "pca_data"
   ]
  },
  {
   "cell_type": "code",
   "execution_count": 12,
   "metadata": {},
   "outputs": [
    {
     "name": "stdout",
     "output_type": "stream",
     "text": [
      "Num test should be 920\n",
      "train inds: [2226  855  503 ... 3847 2288 2622] (3680,)\n",
      "test inds: [   9   11   18   35   36   37   38   44   54   60   62   69   70   79\n",
      "   82   84   85   92   97  108  111  117  119  120  125  128  129  138\n",
      "  139  144  147  160  166  170  175  182  183  186  190  195  197  201\n",
      "  203  207  210  214  225  235  240  245  247  248  251  265  269  271\n",
      "  273  274  275  276  278  279  281  286  299  301  306  308  331  334\n",
      "  339  344  345  354  358  359  363  374  375  388  395  397  398  400\n",
      "  415  424  425  426  429  432  444  449  450  458  462  463  467  468\n",
      "  482  495  497  499  508  512  518  533  534  535  552  556  558  559\n",
      "  560  562  565  566  569  575  577  583  585  592  593  600  605  608\n",
      "  619  626  629  635  637  643  644  653  658  659  662  665  668  673\n",
      "  682  687  694  704  722  727  731  733  748  753  754  755  758  762\n",
      "  767  770  774  780  782  794  796  799  800  802  814  821  823  828\n",
      "  834  837  839  841  844  847  849  851  853  857  869  871  872  876\n",
      "  882  897  906  908  910  912  913  919  926  927  934  935  941  942\n",
      "  947  958  959  971 1002 1006 1016 1017 1020 1028 1031 1039 1041 1043\n",
      " 1044 1046 1048 1053 1054 1061 1062 1070 1071 1076 1078 1084 1092 1099\n",
      " 1100 1106 1111 1114 1117 1119 1122 1123 1126 1127 1130 1132 1134 1135\n",
      " 1137 1140 1151 1159 1161 1162 1169 1172 1175 1176 1179 1181 1189 1195\n",
      " 1198 1204 1207 1214 1215 1220 1223 1229 1231 1237 1241 1247 1248 1252\n",
      " 1255 1257 1261 1264 1268 1269 1274 1277 1287 1290 1295 1299 1305 1313\n",
      " 1314 1321 1323 1325 1333 1334 1335 1338 1344 1345 1347 1349 1357 1358\n",
      " 1360 1364 1375 1378 1384 1386 1387 1395 1404 1414 1416 1421 1426 1432\n",
      " 1439 1446 1452 1454 1455 1462 1469 1482 1483 1486 1494 1498 1499 1501\n",
      " 1505 1508 1511 1519 1522 1537 1539 1545 1546 1548 1551 1561 1570 1571\n",
      " 1572 1586 1587 1588 1591 1596 1605 1609 1615 1616 1617 1634 1637 1640\n",
      " 1641 1646 1653 1655 1656 1663 1666 1678 1700 1701 1711 1716 1717 1726\n",
      " 1727 1729 1730 1733 1736 1737 1738 1741 1742 1744 1746 1777 1779 1780\n",
      " 1782 1784 1787 1788 1790 1796 1798 1799 1804 1815 1816 1822 1823 1824\n",
      " 1837 1840 1846 1848 1850 1855 1856 1864 1870 1871 1874 1878 1879 1881\n",
      " 1886 1888 1889 1890 1893 1905 1908 1909 1914 1915 1925 1930 1931 1934\n",
      " 1944 1961 1966 1971 1974 1977 1981 1982 1988 1992 2001 2006 2007 2012\n",
      " 2013 2015 2016 2019 2024 2030 2032 2033 2035 2037 2046 2048 2054 2057\n",
      " 2060 2069 2086 2087 2091 2098 2101 2104 2107 2108 2120 2122 2124 2125\n",
      " 2129 2130 2142 2147 2154 2155 2158 2171 2179 2185 2188 2194 2206 2211\n",
      " 2214 2216 2219 2223 2235 2248 2253 2254 2257 2258 2259 2269 2271 2278\n",
      " 2282 2286 2291 2299 2300 2305 2308 2309 2311 2318 2334 2337 2382 2410\n",
      " 2414 2416 2422 2425 2429 2439 2441 2442 2447 2448 2449 2451 2455 2459\n",
      " 2463 2471 2472 2493 2495 2503 2510 2511 2515 2538 2539 2546 2547 2548\n",
      " 2550 2554 2557 2559 2563 2571 2574 2577 2580 2583 2585 2588 2593 2596\n",
      " 2599 2600 2611 2624 2626 2632 2635 2649 2650 2654 2661 2667 2671 2678\n",
      " 2690 2692 2698 2700 2706 2708 2710 2712 2713 2717 2722 2725 2730 2731\n",
      " 2732 2737 2738 2740 2741 2746 2749 2750 2756 2760 2761 2765 2780 2784\n",
      " 2788 2789 2813 2825 2834 2835 2841 2842 2845 2857 2858 2872 2873 2879\n",
      " 2880 2885 2889 2893 2897 2910 2921 2924 2927 2934 2941 2943 2946 2952\n",
      " 2954 2985 2993 3002 3004 3006 3013 3018 3020 3024 3027 3033 3039 3040\n",
      " 3041 3044 3047 3050 3052 3058 3059 3060 3065 3066 3068 3079 3080 3083\n",
      " 3085 3089 3090 3094 3095 3098 3102 3107 3126 3132 3134 3137 3141 3146\n",
      " 3153 3155 3157 3176 3185 3207 3208 3210 3218 3231 3232 3235 3242 3247\n",
      " 3249 3256 3257 3258 3261 3263 3264 3271 3277 3285 3287 3289 3300 3302\n",
      " 3305 3311 3314 3316 3318 3330 3332 3339 3343 3360 3364 3369 3370 3373\n",
      " 3376 3389 3393 3396 3405 3412 3419 3421 3426 3427 3432 3450 3457 3461\n",
      " 3465 3466 3467 3468 3477 3479 3484 3485 3488 3497 3498 3504 3512 3513\n",
      " 3527 3529 3532 3535 3549 3561 3562 3569 3570 3572 3573 3574 3582 3587\n",
      " 3590 3591 3596 3598 3604 3611 3624 3641 3645 3649 3658 3671 3676 3681\n",
      " 3687 3700 3705 3707 3714 3718 3719 3721 3723 3729 3730 3732 3733 3739\n",
      " 3745 3765 3781 3787 3789 3792 3793 3794 3795 3796 3802 3804 3811 3813\n",
      " 3814 3816 3821 3825 3827 3828 3831 3851 3856 3857 3859 3861 3863 3877\n",
      " 3879 3880 3882 3899 3901 3904 3913 3917 3920 3923 3926 3927 3937 3944\n",
      " 3955 3966 3968 3972 3976 3980 3984 3989 3992 3993 3994 4002 4004 4008\n",
      " 4016 4022 4044 4046 4048 4052 4058 4060 4067 4076 4090 4107 4128 4129\n",
      " 4135 4142 4150 4151 4162 4168 4178 4182 4184 4194 4202 4221 4233 4234\n",
      " 4237 4238 4239 4240 4246 4250 4255 4260 4267 4279 4280 4282 4287 4297\n",
      " 4302 4311 4317 4320 4327 4328 4373 4374 4375 4377 4378 4379 4382 4394\n",
      " 4399 4406 4407 4408 4414 4420 4422 4426 4428 4430 4432 4441 4449 4453\n",
      " 4454 4458 4464 4469 4472 4478 4482 4483 4489 4495 4496 4518 4521 4525\n",
      " 4536 4542 4561 4562 4568 4569 4570 4577 4586 4588 4599] (921,)\n",
      "Training Data: [[  -5.18048902   20.43811106   37.75350204   -9.38399147   -6.26718189]\n",
      " [  -3.74184042   14.16320001   25.88705794   -6.98000464   -3.88599135]\n",
      " [ -99.99995028  422.95103164  851.41204556 -223.45473858 -161.8233338 ]\n",
      " ...\n",
      " [ -27.01547694  119.79208956  240.85589451  -64.64620825  -48.29192939]\n",
      " [  -9.1985347    37.34220822   74.27639883  -19.48597406  -12.54937597]\n",
      " [  -0.87923776    3.25123683    5.39915876   -1.72498281   -1.57680995]] (3680, 5)\n",
      "Testing Data: [[-4.12845171e+01  1.57280010e+02  3.07451502e+02 -7.86487598e+01\n",
      "  -4.48124206e+01]\n",
      " [-1.04641307e+01  3.95391919e+01  7.55387080e+01 -1.93855374e+01\n",
      "  -1.10514413e+01]\n",
      " [-4.50444888e+00  1.63859795e+01  2.79885606e+01 -6.96665866e+00\n",
      "  -4.21612484e+00]\n",
      " ...\n",
      " [-1.01331646e+01  3.93478254e+01  7.65015924e+01 -1.90686931e+01\n",
      "  -1.32199082e+01]\n",
      " [-7.34420722e-01  2.36836785e+00  5.21595733e+00 -1.33174666e-01\n",
      "  -4.42551993e-01]\n",
      " [-4.54504484e+00  1.70122779e+01  3.20311990e+01 -7.99490293e+00\n",
      "  -4.88878579e+00]] (921, 5)\n"
     ]
    }
   ],
   "source": [
    "div = len(data) // 5\n",
    "num_train = 4 * div\n",
    "print(\"Num test should be\", div)\n",
    "#train_inds = np.random.randint(len(data), size=num_train)\n",
    "train_inds = np.random.choice(range(len(data)), size=num_train, replace=False)\n",
    "print(\"train inds:\", train_inds, train_inds.shape)\n",
    "test_inds = np.setxor1d(np.array(range(len(data))), train_inds)\n",
    "#test_inds = np.array([i for i in range(len(data)) if i not in train_inds])\n",
    "print(\"test inds:\", test_inds, test_inds.shape)\n",
    "pca_train_data = pca_data[train_inds, :]\n",
    "pca_test_data = pca_data[test_inds, :]\n",
    "np.random.shuffle(test_data)\n",
    "print(\"Training Data:\", pca_train_data, pca_train_data.shape)\n",
    "print(\"Testing Data:\", pca_test_data, pca_test_data.shape)"
   ]
  },
  {
   "cell_type": "code",
   "execution_count": 13,
   "metadata": {},
   "outputs": [],
   "source": [
    "pca_train_labels = pca_train_data[:, -1]\n",
    "pca_train_data = pca_train_data[:, :-1]\n",
    "pca_test_labels = pca_test_data[:, -1]\n",
    "pca_test_data = pca_test_data[:, :-1]"
   ]
  },
  {
   "cell_type": "code",
   "execution_count": 14,
   "metadata": {},
   "outputs": [
    {
     "name": "stdout",
     "output_type": "stream",
     "text": [
      "Epoch 1: Error = 1.282429\n",
      "Epoch 2: Error = 1.711782\n",
      "Epoch 3: Error = 1.807605\n",
      "Epoch 4: Error = 1.851964\n",
      "Epoch 5: Error = 1.878625\n",
      "Epoch 6: Error = 1.896777\n",
      "Epoch 7: Error = 1.910072\n",
      "Epoch 8: Error = 1.920289\n",
      "Epoch 9: Error = 1.928413\n",
      "Epoch 10: Error = 1.935040\n",
      "Epoch 11: Error = 1.940556\n",
      "  Threshold for change in error met. Ending training.\n",
      "0 0 415 506\n",
      "F1 Score could not be calculated\n",
      "Accuracy: 0.0\n",
      "True Positive Rate: 0.0\n",
      "Positive Predictive Value (Precision): 0.0\n",
      "True Negative Rate: 0.0\n",
      "F1 Score: 0\n"
     ]
    }
   ],
   "source": [
    "nnet = Network(len(pca_train_data[0]), 1, 40, 2, 0.001, \"sigmoid\", 30, 0.2, 0.006)\n",
    "nnet.train(pca_train_data, pca_train_labels)\n",
    "output = nnet.estimate(pca_test_data)\n",
    "get_metrics(output, pca_test_labels)"
   ]
  },
  {
   "cell_type": "code",
   "execution_count": null,
   "metadata": {},
   "outputs": [],
   "source": []
  }
 ],
 "metadata": {
  "kernelspec": {
   "display_name": "Python 3",
   "language": "python",
   "name": "python3"
  },
  "language_info": {
   "codemirror_mode": {
    "name": "ipython",
    "version": 3
   },
   "file_extension": ".py",
   "mimetype": "text/x-python",
   "name": "python",
   "nbconvert_exporter": "python",
   "pygments_lexer": "ipython3",
   "version": "3.6.6"
  }
 },
 "nbformat": 4,
 "nbformat_minor": 2
}

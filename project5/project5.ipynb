{
 "cells": [
  {
   "cell_type": "code",
   "execution_count": null,
   "metadata": {},
   "outputs": [],
   "source": [
    "import numpy as np"
   ]
  },
  {
   "cell_type": "code",
   "execution_count": null,
   "metadata": {},
   "outputs": [],
   "source": [
    "from sklearn.preprocessing import StandardScaler\n",
    "from sklearn.model_selection import train_test_split, GridSearchCV\n",
    "from sklearn.svm import SVC\n",
    "from sklearn.metrics import classification_report"
   ]
  },
  {
   "cell_type": "markdown",
   "metadata": {},
   "source": [
    "# Part 1:\n",
    "\n",
    "Uses `ionosphere.data` and a SVC to classify as good (1) or bad (0)."
   ]
  },
  {
   "cell_type": "code",
   "execution_count": null,
   "metadata": {},
   "outputs": [],
   "source": [
    "iodata = np.loadtxt(\"ionosphere.data\", dtype=object, delimiter=\",\")\n",
    "iodata"
   ]
  },
  {
   "cell_type": "code",
   "execution_count": null,
   "metadata": {},
   "outputs": [],
   "source": [
    "for row in range(iodata.shape[0]):\n",
    "    if iodata[row, -1] == \"g\":\n",
    "        iodata[row, -1] = 1\n",
    "    else:\n",
    "        iodata[row, -1] = 0\n",
    "iodata = iodata.astype(np.float64)\n",
    "print(iodata.dtype)\n",
    "iodata"
   ]
  },
  {
   "cell_type": "code",
   "execution_count": null,
   "metadata": {},
   "outputs": [],
   "source": [
    "ioX = iodata[:, :-1]\n",
    "ioY = iodata[:, -1]\n",
    "print(ioX)\n",
    "print(ioY)"
   ]
  },
  {
   "cell_type": "code",
   "execution_count": null,
   "metadata": {},
   "outputs": [],
   "source": [
    "scaler = StandardScaler(copy=True, with_mean=True, with_std=True)\n",
    "scaler.fit_transform(ioX)\n",
    "print(scaler.get_params())\n",
    "ioX"
   ]
  },
  {
   "cell_type": "code",
   "execution_count": null,
   "metadata": {},
   "outputs": [],
   "source": [
    "ioX_train, ioX_test, ioY_train, ioY_test = train_test_split(ioX, ioY, random_state=0, shuffle=True)\n",
    "print(\"ioX_train\")\n",
    "print(ioX_train, ioX_train.shape)\n",
    "print(\"ioY_train\")\n",
    "print(ioY_train, ioY_train.shape)\n",
    "print(\"ioX_test\")\n",
    "print(ioX_test, ioX_test.shape)\n",
    "print(\"ioY_test\")\n",
    "print(ioY_test, ioY_test.shape)"
   ]
  },
  {
   "cell_type": "code",
   "execution_count": null,
   "metadata": {},
   "outputs": [],
   "source": [
    "gs_params = [\n",
    "    {\"kernel\": [\"linear\"], \"C\": [1, 10, 100, 1000]},\n",
    "    {\"kernel\": [\"poly\"], \"degree\": [2, 3, 4], \"C\": [1, 10, 100, 1000], \"gamma\": [0.1, 0.01, 0.001, 0.0001]},\n",
    "    {\"kernel\": [\"rbf\"], \"C\": [1, 10, 100, 1000], \"gamma\": [0.1, 0.01, 0.001, 0.0001]}\n",
    "]\n",
    "coarse_search = GridSearchCV(estimator=SVC(), param_grid=gs_params, cv=3, scoring=\"f1\", n_jobs=-1)\n",
    "coarse_search.fit(ioX_train, ioY_train)\n",
    "print(\"Best parameters found for SVC on ionosphere.data:\")\n",
    "print()\n",
    "print(coarse_search.best_params_)\n",
    "print()\n",
    "print(\"Classification Report for these parameters:\")\n",
    "y_true, y_pred = ioY_test, coarse_search.predict(ioX_test)\n",
    "print(classification_report(y_true, y_pred))"
   ]
  }
 ],
 "metadata": {
  "kernelspec": {
   "display_name": "Python 3",
   "language": "python",
   "name": "python3"
  },
  "language_info": {
   "codemirror_mode": {
    "name": "ipython",
    "version": 3
   },
   "file_extension": ".py",
   "mimetype": "text/x-python",
   "name": "python",
   "nbconvert_exporter": "python",
   "pygments_lexer": "ipython3",
   "version": "3.6.7"
  }
 },
 "nbformat": 4,
 "nbformat_minor": 2
}

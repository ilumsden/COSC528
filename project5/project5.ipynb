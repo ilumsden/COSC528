{
 "cells": [
  {
   "cell_type": "code",
   "execution_count": 1,
   "metadata": {},
   "outputs": [],
   "source": [
    "import numpy as np"
   ]
  },
  {
   "cell_type": "code",
   "execution_count": 2,
   "metadata": {},
   "outputs": [],
   "source": [
    "from sklearn.preprocessing import StandardScaler\n",
    "from sklearn.model_selection import train_test_split, GridSearchCV\n",
    "from sklearn.svm import SVC\n",
    "from sklearn.metrics import classification_report, log_loss"
   ]
  },
  {
   "cell_type": "markdown",
   "metadata": {},
   "source": [
    "# Part 1:\n",
    "\n",
    "Uses `ionosphere.data` and a SVC to classify as good (1) or bad (0)."
   ]
  },
  {
   "cell_type": "code",
   "execution_count": 3,
   "metadata": {},
   "outputs": [
    {
     "data": {
      "text/plain": [
       "array([['1', '0', '0.99539', ..., '0.18641', '-0.45300', 'g'],\n",
       "       ['1', '0', '1', ..., '-0.13738', '-0.02447', 'b'],\n",
       "       ['1', '0', '1', ..., '0.56045', '-0.38238', 'g'],\n",
       "       ...,\n",
       "       ['1', '0', '0.94701', ..., '0.92697', '-0.00577', 'g'],\n",
       "       ['1', '0', '0.90608', ..., '0.87403', '-0.16243', 'g'],\n",
       "       ['1', '0', '0.84710', ..., '0.85764', '-0.06151', 'g']],\n",
       "      dtype=object)"
      ]
     },
     "execution_count": 3,
     "metadata": {},
     "output_type": "execute_result"
    }
   ],
   "source": [
    "iodata = np.loadtxt(\"ionosphere.data\", dtype=object, delimiter=\",\")\n",
    "iodata"
   ]
  },
  {
   "cell_type": "code",
   "execution_count": 4,
   "metadata": {},
   "outputs": [
    {
     "name": "stdout",
     "output_type": "stream",
     "text": [
      "float64\n"
     ]
    },
    {
     "data": {
      "text/plain": [
       "array([[ 1.     ,  0.     ,  0.99539, ...,  0.18641, -0.453  ,  1.     ],\n",
       "       [ 1.     ,  0.     ,  1.     , ..., -0.13738, -0.02447,  0.     ],\n",
       "       [ 1.     ,  0.     ,  1.     , ...,  0.56045, -0.38238,  1.     ],\n",
       "       ...,\n",
       "       [ 1.     ,  0.     ,  0.94701, ...,  0.92697, -0.00577,  1.     ],\n",
       "       [ 1.     ,  0.     ,  0.90608, ...,  0.87403, -0.16243,  1.     ],\n",
       "       [ 1.     ,  0.     ,  0.8471 , ...,  0.85764, -0.06151,  1.     ]])"
      ]
     },
     "execution_count": 4,
     "metadata": {},
     "output_type": "execute_result"
    }
   ],
   "source": [
    "for row in range(iodata.shape[0]):\n",
    "    if iodata[row, -1] == \"g\":\n",
    "        iodata[row, -1] = 1\n",
    "    else:\n",
    "        iodata[row, -1] = 0\n",
    "iodata = iodata.astype(np.float64)\n",
    "print(iodata.dtype)\n",
    "iodata"
   ]
  },
  {
   "cell_type": "code",
   "execution_count": 5,
   "metadata": {},
   "outputs": [
    {
     "name": "stdout",
     "output_type": "stream",
     "text": [
      "[[ 1.       0.       0.99539 ... -0.54487  0.18641 -0.453  ]\n",
      " [ 1.       0.       1.      ... -0.06288 -0.13738 -0.02447]\n",
      " [ 1.       0.       1.      ... -0.2418   0.56045 -0.38238]\n",
      " ...\n",
      " [ 1.       0.       0.94701 ...  0.00442  0.92697 -0.00577]\n",
      " [ 1.       0.       0.90608 ... -0.03757  0.87403 -0.16243]\n",
      " [ 1.       0.       0.8471  ... -0.06678  0.85764 -0.06151]]\n",
      "[1. 0. 1. 0. 1. 0. 1. 0. 1. 0. 1. 0. 1. 0. 1. 0. 1. 0. 1. 0. 1. 0. 1. 0.\n",
      " 1. 0. 1. 0. 1. 0. 1. 0. 1. 0. 1. 0. 1. 0. 1. 0. 1. 0. 1. 0. 1. 0. 1. 0.\n",
      " 1. 0. 1. 0. 1. 0. 1. 0. 1. 0. 1. 0. 1. 0. 1. 0. 1. 0. 1. 0. 1. 0. 1. 0.\n",
      " 1. 0. 1. 0. 1. 0. 1. 0. 1. 0. 1. 0. 1. 0. 1. 0. 1. 0. 1. 0. 1. 0. 1. 0.\n",
      " 1. 1. 0. 1. 0. 1. 0. 1. 0. 1. 0. 1. 0. 1. 0. 1. 0. 1. 0. 1. 0. 1. 0. 1.\n",
      " 0. 1. 0. 1. 0. 1. 0. 1. 0. 1. 0. 1. 0. 1. 0. 1. 0. 1. 0. 1. 0. 1. 0. 1.\n",
      " 0. 1. 0. 1. 0. 1. 0. 1. 0. 1. 0. 1. 0. 1. 0. 1. 0. 1. 0. 1. 0. 1. 0. 1.\n",
      " 0. 1. 0. 1. 0. 1. 0. 1. 0. 1. 0. 1. 0. 1. 0. 1. 0. 1. 0. 1. 0. 1. 0. 1.\n",
      " 0. 1. 0. 1. 0. 1. 0. 1. 0. 1. 0. 1. 0. 1. 0. 1. 0. 1. 0. 1. 0. 1. 0. 1.\n",
      " 0. 1. 0. 1. 0. 1. 0. 1. 0. 1. 0. 1. 0. 1. 0. 1. 0. 1. 0. 1. 0. 1. 0. 1.\n",
      " 0. 1. 0. 1. 0. 1. 0. 1. 0. 1. 0. 1. 0. 1. 1. 1. 1. 1. 1. 1. 1. 1. 1. 1.\n",
      " 1. 1. 1. 1. 1. 1. 1. 1. 1. 1. 1. 1. 1. 1. 1. 1. 1. 1. 1. 1. 1. 1. 1. 1.\n",
      " 1. 1. 1. 1. 1. 1. 1. 1. 1. 1. 1. 1. 1. 1. 1. 1. 1. 1. 1. 1. 1. 1. 1. 1.\n",
      " 1. 1. 1. 1. 1. 1. 1. 1. 1. 1. 1. 1. 1. 1. 1. 1. 1. 1. 1. 1. 1. 1. 1. 1.\n",
      " 1. 1. 1. 1. 1. 1. 1. 1. 1. 1. 1. 1. 1. 1. 1.]\n"
     ]
    }
   ],
   "source": [
    "ioX = iodata[:, :-1]\n",
    "ioY = iodata[:, -1]\n",
    "print(ioX)\n",
    "print(ioY)"
   ]
  },
  {
   "cell_type": "code",
   "execution_count": 6,
   "metadata": {},
   "outputs": [
    {
     "name": "stdout",
     "output_type": "stream",
     "text": [
      "{'copy': True, 'with_mean': True, 'with_std': True}\n"
     ]
    },
    {
     "data": {
      "text/plain": [
       "array([[ 0.34843328,  0.        ,  0.71237237, ..., -1.05505394,\n",
       "        -0.3122206 , -0.99959483],\n",
       "       [ 0.34843328,  0.        ,  0.72164805, ..., -0.11521328,\n",
       "        -0.93260505, -0.08328554],\n",
       "       [ 0.34843328,  0.        ,  0.72164805, ..., -0.46409249,\n",
       "         0.40444328, -0.84859079],\n",
       "       ...,\n",
       "       [ 0.34843328,  0.        ,  0.61502805, ...,  0.01601615,\n",
       "         1.10669878, -0.04330004],\n",
       "       [ 0.34843328,  0.        ,  0.53267371, ..., -0.06586087,\n",
       "         1.00526528, -0.37828012],\n",
       "       [ 0.34843328,  0.        ,  0.41400137, ..., -0.12281796,\n",
       "         0.9738619 , -0.16248675]])"
      ]
     },
     "execution_count": 6,
     "metadata": {},
     "output_type": "execute_result"
    }
   ],
   "source": [
    "scaler = StandardScaler(copy=True, with_mean=True, with_std=True)\n",
    "ioX = scaler.fit_transform(ioX)\n",
    "print(scaler.get_params())\n",
    "ioX"
   ]
  },
  {
   "cell_type": "code",
   "execution_count": 7,
   "metadata": {},
   "outputs": [
    {
     "name": "stdout",
     "output_type": "stream",
     "text": [
      "ioX_train\n",
      "[[ 0.34843328  0.         -0.62978403 ...  0.26665853 -0.4356882\n",
      "   0.40669713]\n",
      " [ 0.34843328  0.          0.72164805 ... -0.42199378  0.87022499\n",
      "  -0.18767547]\n",
      " [ 0.34843328  0.          0.71563193 ... -0.44008901 -1.57375903\n",
      "  -0.78003812]\n",
      " ...\n",
      " [ 0.34843328  0.          0.68506847 ...  0.32845141  0.45799572\n",
      "   0.33418868]\n",
      " [ 0.34843328  0.          0.61295561 ...  0.40668209 -0.78658603\n",
      "   0.86524736]\n",
      " [-2.86998991  0.         -1.29042961 ...  1.95731486 -0.66938378\n",
      "  -0.03096227]] (263, 34)\n",
      "ioY_train\n",
      "[1. 1. 1. 1. 0. 1. 1. 0. 0. 1. 0. 0. 1. 1. 1. 1. 1. 0. 0. 1. 0. 0. 0. 1.\n",
      " 1. 1. 1. 0. 1. 0. 1. 1. 1. 1. 0. 0. 1. 0. 1. 1. 1. 0. 1. 1. 1. 1. 1. 0.\n",
      " 1. 1. 0. 0. 1. 1. 0. 0. 0. 0. 1. 0. 0. 1. 1. 0. 1. 1. 0. 0. 0. 1. 1. 0.\n",
      " 1. 1. 1. 1. 0. 1. 0. 0. 0. 1. 1. 0. 1. 0. 0. 1. 1. 1. 0. 1. 1. 0. 1. 0.\n",
      " 0. 1. 0. 1. 1. 0. 1. 1. 0. 1. 1. 1. 1. 1. 1. 1. 1. 0. 0. 1. 0. 0. 0. 1.\n",
      " 0. 1. 1. 0. 0. 1. 1. 0. 1. 1. 1. 1. 0. 0. 0. 1. 1. 1. 0. 1. 1. 0. 1. 1.\n",
      " 0. 1. 0. 0. 1. 1. 1. 1. 1. 1. 0. 1. 1. 1. 1. 1. 1. 1. 1. 1. 1. 0. 1. 1.\n",
      " 1. 0. 1. 0. 0. 1. 1. 1. 0. 0. 1. 1. 1. 0. 1. 1. 0. 1. 1. 1. 0. 1. 0. 1.\n",
      " 1. 1. 1. 1. 1. 1. 1. 1. 0. 1. 1. 1. 1. 0. 1. 1. 1. 1. 1. 1. 1. 0. 1. 0.\n",
      " 1. 1. 1. 1. 1. 0. 0. 0. 1. 1. 1. 1. 1. 1. 1. 1. 1. 1. 1. 1. 1. 1. 1. 1.\n",
      " 0. 1. 1. 0. 1. 0. 1. 1. 1. 1. 0. 1. 0. 1. 1. 0. 1. 1. 1. 0. 1. 0. 0.] (263,)\n",
      "ioX_test\n",
      "[[ 0.34843328  0.          0.67311673 ... -1.57823626 -0.93440609\n",
      "  -1.76241969]\n",
      " [ 0.34843328  0.          0.72164805 ... -0.66895081  1.24662489\n",
      "   0.71411502]\n",
      " [ 0.34843328  0.          0.54766369 ...  0.00739752 -0.66938378\n",
      "  -0.03096227]\n",
      " ...\n",
      " [ 0.34843328  0.          0.72164805 ...  1.95731486 -2.58539244\n",
      "   2.10729944]\n",
      " [ 0.34843328  0.          0.47170776 ...  0.05240161  0.86510925\n",
      "   0.0212327 ]\n",
      " [ 0.34843328  0.          0.62510856 ... -0.05909466  1.16688061\n",
      "  -0.01366374]] (88, 34)\n",
      "ioY_test\n",
      "[1. 1. 0. 0. 0. 1. 0. 1. 1. 0. 1. 1. 0. 1. 1. 0. 0. 1. 1. 0. 1. 1. 0. 1.\n",
      " 1. 1. 0. 1. 0. 0. 1. 1. 1. 1. 0. 1. 1. 0. 1. 1. 1. 0. 0. 0. 1. 1. 0. 0.\n",
      " 1. 0. 0. 1. 1. 0. 0. 0. 1. 1. 0. 0. 1. 0. 1. 1. 1. 1. 1. 1. 0. 0. 1. 1.\n",
      " 1. 0. 0. 0. 1. 0. 1. 0. 1. 0. 1. 0. 1. 0. 1. 1.] (88,)\n"
     ]
    }
   ],
   "source": [
    "ioX_train, ioX_test, ioY_train, ioY_test = train_test_split(ioX, ioY, random_state=0, shuffle=True)\n",
    "print(\"ioX_train\")\n",
    "print(ioX_train, ioX_train.shape)\n",
    "print(\"ioY_train\")\n",
    "print(ioY_train, ioY_train.shape)\n",
    "print(\"ioX_test\")\n",
    "print(ioX_test, ioX_test.shape)\n",
    "print(\"ioY_test\")\n",
    "print(ioY_test, ioY_test.shape)"
   ]
  },
  {
   "cell_type": "code",
   "execution_count": 8,
   "metadata": {},
   "outputs": [
    {
     "name": "stdout",
     "output_type": "stream",
     "text": [
      "Course Grid Search:\n",
      "\n",
      "Best parameters found for SVC on ionosphere.data:\n",
      "\n",
      "{'C': 1, 'gamma': 0.1, 'kernel': 'rbf'}\n",
      "\n",
      "Best Fitting F1 Score:\n",
      "0.9456192924163961\n",
      "\n",
      "Classification Report for these parameters:\n",
      "              precision    recall  f1-score   support\n",
      "\n",
      "         0.0       0.95      0.97      0.96        38\n",
      "         1.0       0.98      0.96      0.97        50\n",
      "\n",
      "   micro avg       0.97      0.97      0.97        88\n",
      "   macro avg       0.96      0.97      0.97        88\n",
      "weighted avg       0.97      0.97      0.97        88\n",
      "\n"
     ]
    },
    {
     "name": "stderr",
     "output_type": "stream",
     "text": [
      "/home/ilumsden/miniconda3/lib/python3.6/site-packages/sklearn/model_selection/_search.py:841: DeprecationWarning: The default of the `iid` parameter will change from True to False in version 0.22 and will be removed in 0.24. This will change numeric results when test-set sizes are unequal.\n",
      "  DeprecationWarning)\n"
     ]
    }
   ],
   "source": [
    "gs_params = [\n",
    "    {\"kernel\": [\"linear\"], \"C\": [0.01, 0.1, 1, 10, 100, 1000]},\n",
    "    {\"kernel\": [\"poly\"], \"degree\": [2, 3, 4], \"C\": [0.01, 0.1, 1, 10, 100, 1000], \"gamma\": [1, 0.1, 0.01, 0.001, 0.0001]},\n",
    "    {\"kernel\": [\"rbf\"], \"C\": [0.01, 0.1, 1, 10, 100, 1000], \"gamma\": [1, 0.1, 0.01, 0.001, 0.0001]}\n",
    "]\n",
    "coarse_search = GridSearchCV(estimator=SVC(), param_grid=gs_params, cv=5, scoring=\"f1\", n_jobs=-1)\n",
    "coarse_search.fit(ioX_train, ioY_train)\n",
    "print(\"Course Grid Search:\\n\")\n",
    "print(\"Best parameters found for SVC on ionosphere.data:\")\n",
    "print()\n",
    "print(coarse_search.best_params_)\n",
    "print()\n",
    "print(\"Best Fitting F1 Score:\")\n",
    "print(coarse_search.best_score_)\n",
    "print()\n",
    "print(\"Classification Report for these parameters:\")\n",
    "y_true, y_pred = ioY_test, coarse_search.predict(ioX_test)\n",
    "print(classification_report(y_true, y_pred))"
   ]
  },
  {
   "cell_type": "code",
   "execution_count": 9,
   "metadata": {},
   "outputs": [
    {
     "name": "stdout",
     "output_type": "stream",
     "text": [
      "Fine Grid Search:\n",
      "\n",
      "Best parameters found for SVC on ionosphere.data:\n",
      "\n",
      "{'C': 1, 'gamma': 0.1, 'kernel': 'rbf'}\n",
      "\n",
      "Best Fitting F1 Score:\n",
      "0.9456192924163961\n",
      "\n",
      "Classification Report for these parameters:\n",
      "              precision    recall  f1-score   support\n",
      "\n",
      "         0.0       0.95      0.97      0.96        38\n",
      "         1.0       0.98      0.96      0.97        50\n",
      "\n",
      "   micro avg       0.97      0.97      0.97        88\n",
      "   macro avg       0.96      0.97      0.97        88\n",
      "weighted avg       0.97      0.97      0.97        88\n",
      "\n"
     ]
    },
    {
     "name": "stderr",
     "output_type": "stream",
     "text": [
      "/home/ilumsden/miniconda3/lib/python3.6/site-packages/sklearn/model_selection/_search.py:841: DeprecationWarning: The default of the `iid` parameter will change from True to False in version 0.22 and will be removed in 0.24. This will change numeric results when test-set sizes are unequal.\n",
      "  DeprecationWarning)\n"
     ]
    }
   ],
   "source": [
    "gs_params = [\n",
    "    {\"kernel\": [\"rbf\"], \"C\": np.arange(0.75, 1.25, 0.01), \"gamma\": np.arange(0.075, 0.125, 0.001)}\n",
    "]\n",
    "fine_search = GridSearchCV(estimator=SVC(), param_grid=gs_params, cv=5, scoring=\"f1\", n_jobs=-1)\n",
    "coarse_search.fit(ioX_train, ioY_train)\n",
    "print(\"Fine Grid Search:\\n\")\n",
    "print(\"Best parameters found for SVC on ionosphere.data:\")\n",
    "print()\n",
    "print(coarse_search.best_params_)\n",
    "print()\n",
    "print(\"Best Fitting F1 Score:\")\n",
    "print(coarse_search.best_score_)\n",
    "print()\n",
    "print(\"Classification Report for these parameters:\")\n",
    "y_true, y_pred = ioY_test, coarse_search.predict(ioX_test)\n",
    "print(classification_report(y_true, y_pred))"
   ]
  },
  {
   "cell_type": "markdown",
   "metadata": {},
   "source": [
    "# Part 2\n",
    "\n",
    "Uses `vowel-context.data`"
   ]
  },
  {
   "cell_type": "code",
   "execution_count": 10,
   "metadata": {},
   "outputs": [
    {
     "data": {
      "text/plain": [
       "array([[ 0.   ,  0.   ,  0.   , ..., -0.874, -0.814,  0.   ],\n",
       "       [ 0.   ,  0.   ,  0.   , ..., -0.621, -0.488,  1.   ],\n",
       "       [ 0.   ,  0.   ,  0.   , ..., -0.809, -0.049,  2.   ],\n",
       "       ...,\n",
       "       [ 1.   , 14.   ,  1.   , ..., -0.773, -0.5  ,  8.   ],\n",
       "       [ 1.   , 14.   ,  1.   , ..., -0.863, -0.39 ,  9.   ],\n",
       "       [ 1.   , 14.   ,  1.   , ..., -1.046,  0.697, 10.   ]])"
      ]
     },
     "execution_count": 10,
     "metadata": {},
     "output_type": "execute_result"
    }
   ],
   "source": [
    "vcdata = np.loadtxt(\"vowel-context.data\", dtype=np.float64)\n",
    "vcdata"
   ]
  },
  {
   "cell_type": "code",
   "execution_count": 11,
   "metadata": {},
   "outputs": [
    {
     "data": {
      "text/plain": [
       "array([[-3.639,  0.418, -0.67 , ..., -0.874, -0.814,  0.   ],\n",
       "       [-3.327,  0.496, -0.694, ..., -0.621, -0.488,  1.   ],\n",
       "       [-2.12 ,  0.894, -1.576, ..., -0.809, -0.049,  2.   ],\n",
       "       ...,\n",
       "       [-3.98 ,  2.459,  0.068, ..., -0.773, -0.5  ,  8.   ],\n",
       "       [-4.264,  2.925,  0.065, ..., -0.863, -0.39 ,  9.   ],\n",
       "       [-3.291,  2.324, -0.679, ..., -1.046,  0.697, 10.   ]])"
      ]
     },
     "execution_count": 11,
     "metadata": {},
     "output_type": "execute_result"
    }
   ],
   "source": [
    "vcdata = vcdata[:, 3:]\n",
    "vcdata"
   ]
  },
  {
   "cell_type": "code",
   "execution_count": 12,
   "metadata": {},
   "outputs": [
    {
     "name": "stdout",
     "output_type": "stream",
     "text": [
      "[[-3.639  0.418 -0.67  ...  0.529 -0.874 -0.814]\n",
      " [-3.327  0.496 -0.694 ...  0.51  -0.621 -0.488]\n",
      " [-2.12   0.894 -1.576 ...  0.676 -0.809 -0.049]\n",
      " ...\n",
      " [-3.98   2.459  0.068 ...  0.521 -0.773 -0.5  ]\n",
      " [-4.264  2.925  0.065 ... -0.14  -0.863 -0.39 ]\n",
      " [-3.291  2.324 -0.679 ...  0.115 -1.046  0.697]] (990, 10)\n",
      "[ 0.  1.  2.  3.  4.  5.  6.  7.  8.  9. 10.  0.  1.  2.  3.  4.  5.  6.\n",
      "  7.  8.  9. 10.  0.  1.  2.  3.  4.  5.  6.  7.  8.  9. 10.  0.  1.  2.\n",
      "  3.  4.  5.  6.  7.  8.  9. 10.  0.  1.  2.  3.  4.  5.  6.  7.  8.  9.\n",
      " 10.  0.  1.  2.  3.  4.  5.  6.  7.  8.  9. 10.  0.  1.  2.  3.  4.  5.\n",
      "  6.  7.  8.  9. 10.  0.  1.  2.  3.  4.  5.  6.  7.  8.  9. 10.  0.  1.\n",
      "  2.  3.  4.  5.  6.  7.  8.  9. 10.  0.  1.  2.  3.  4.  5.  6.  7.  8.\n",
      "  9. 10.  0.  1.  2.  3.  4.  5.  6.  7.  8.  9. 10.  0.  1.  2.  3.  4.\n",
      "  5.  6.  7.  8.  9. 10.  0.  1.  2.  3.  4.  5.  6.  7.  8.  9. 10.  0.\n",
      "  1.  2.  3.  4.  5.  6.  7.  8.  9. 10.  0.  1.  2.  3.  4.  5.  6.  7.\n",
      "  8.  9. 10.  0.  1.  2.  3.  4.  5.  6.  7.  8.  9. 10.  0.  1.  2.  3.\n",
      "  4.  5.  6.  7.  8.  9. 10.  0.  1.  2.  3.  4.  5.  6.  7.  8.  9. 10.\n",
      "  0.  1.  2.  3.  4.  5.  6.  7.  8.  9. 10.  0.  1.  2.  3.  4.  5.  6.\n",
      "  7.  8.  9. 10.  0.  1.  2.  3.  4.  5.  6.  7.  8.  9. 10.  0.  1.  2.\n",
      "  3.  4.  5.  6.  7.  8.  9. 10.  0.  1.  2.  3.  4.  5.  6.  7.  8.  9.\n",
      " 10.  0.  1.  2.  3.  4.  5.  6.  7.  8.  9. 10.  0.  1.  2.  3.  4.  5.\n",
      "  6.  7.  8.  9. 10.  0.  1.  2.  3.  4.  5.  6.  7.  8.  9. 10.  0.  1.\n",
      "  2.  3.  4.  5.  6.  7.  8.  9. 10.  0.  1.  2.  3.  4.  5.  6.  7.  8.\n",
      "  9. 10.  0.  1.  2.  3.  4.  5.  6.  7.  8.  9. 10.  0.  1.  2.  3.  4.\n",
      "  5.  6.  7.  8.  9. 10.  0.  1.  2.  3.  4.  5.  6.  7.  8.  9. 10.  0.\n",
      "  1.  2.  3.  4.  5.  6.  7.  8.  9. 10.  0.  1.  2.  3.  4.  5.  6.  7.\n",
      "  8.  9. 10.  0.  1.  2.  3.  4.  5.  6.  7.  8.  9. 10.  0.  1.  2.  3.\n",
      "  4.  5.  6.  7.  8.  9. 10.  0.  1.  2.  3.  4.  5.  6.  7.  8.  9. 10.\n",
      "  0.  1.  2.  3.  4.  5.  6.  7.  8.  9. 10.  0.  1.  2.  3.  4.  5.  6.\n",
      "  7.  8.  9. 10.  0.  1.  2.  3.  4.  5.  6.  7.  8.  9. 10.  0.  1.  2.\n",
      "  3.  4.  5.  6.  7.  8.  9. 10.  0.  1.  2.  3.  4.  5.  6.  7.  8.  9.\n",
      " 10.  0.  1.  2.  3.  4.  5.  6.  7.  8.  9. 10.  0.  1.  2.  3.  4.  5.\n",
      "  6.  7.  8.  9. 10.  0.  1.  2.  3.  4.  5.  6.  7.  8.  9. 10.  0.  1.\n",
      "  2.  3.  4.  5.  6.  7.  8.  9. 10.  0.  1.  2.  3.  4.  5.  6.  7.  8.\n",
      "  9. 10.  0.  1.  2.  3.  4.  5.  6.  7.  8.  9. 10.  0.  1.  2.  3.  4.\n",
      "  5.  6.  7.  8.  9. 10.  0.  1.  2.  3.  4.  5.  6.  7.  8.  9. 10.  0.\n",
      "  1.  2.  3.  4.  5.  6.  7.  8.  9. 10.  0.  1.  2.  3.  4.  5.  6.  7.\n",
      "  8.  9. 10.  0.  1.  2.  3.  4.  5.  6.  7.  8.  9. 10.  0.  1.  2.  3.\n",
      "  4.  5.  6.  7.  8.  9. 10.  0.  1.  2.  3.  4.  5.  6.  7.  8.  9. 10.\n",
      "  0.  1.  2.  3.  4.  5.  6.  7.  8.  9. 10.  0.  1.  2.  3.  4.  5.  6.\n",
      "  7.  8.  9. 10.  0.  1.  2.  3.  4.  5.  6.  7.  8.  9. 10.  0.  1.  2.\n",
      "  3.  4.  5.  6.  7.  8.  9. 10.  0.  1.  2.  3.  4.  5.  6.  7.  8.  9.\n",
      " 10.  0.  1.  2.  3.  4.  5.  6.  7.  8.  9. 10.  0.  1.  2.  3.  4.  5.\n",
      "  6.  7.  8.  9. 10.  0.  1.  2.  3.  4.  5.  6.  7.  8.  9. 10.  0.  1.\n",
      "  2.  3.  4.  5.  6.  7.  8.  9. 10.  0.  1.  2.  3.  4.  5.  6.  7.  8.\n",
      "  9. 10.  0.  1.  2.  3.  4.  5.  6.  7.  8.  9. 10.  0.  1.  2.  3.  4.\n",
      "  5.  6.  7.  8.  9. 10.  0.  1.  2.  3.  4.  5.  6.  7.  8.  9. 10.  0.\n",
      "  1.  2.  3.  4.  5.  6.  7.  8.  9. 10.  0.  1.  2.  3.  4.  5.  6.  7.\n",
      "  8.  9. 10.  0.  1.  2.  3.  4.  5.  6.  7.  8.  9. 10.  0.  1.  2.  3.\n",
      "  4.  5.  6.  7.  8.  9. 10.  0.  1.  2.  3.  4.  5.  6.  7.  8.  9. 10.\n",
      "  0.  1.  2.  3.  4.  5.  6.  7.  8.  9. 10.  0.  1.  2.  3.  4.  5.  6.\n",
      "  7.  8.  9. 10.  0.  1.  2.  3.  4.  5.  6.  7.  8.  9. 10.  0.  1.  2.\n",
      "  3.  4.  5.  6.  7.  8.  9. 10.  0.  1.  2.  3.  4.  5.  6.  7.  8.  9.\n",
      " 10.  0.  1.  2.  3.  4.  5.  6.  7.  8.  9. 10.  0.  1.  2.  3.  4.  5.\n",
      "  6.  7.  8.  9. 10.  0.  1.  2.  3.  4.  5.  6.  7.  8.  9. 10.  0.  1.\n",
      "  2.  3.  4.  5.  6.  7.  8.  9. 10.  0.  1.  2.  3.  4.  5.  6.  7.  8.\n",
      "  9. 10.  0.  1.  2.  3.  4.  5.  6.  7.  8.  9. 10.  0.  1.  2.  3.  4.\n",
      "  5.  6.  7.  8.  9. 10.  0.  1.  2.  3.  4.  5.  6.  7.  8.  9. 10.  0.\n",
      "  1.  2.  3.  4.  5.  6.  7.  8.  9. 10.  0.  1.  2.  3.  4.  5.  6.  7.\n",
      "  8.  9. 10.  0.  1.  2.  3.  4.  5.  6.  7.  8.  9. 10.  0.  1.  2.  3.\n",
      "  4.  5.  6.  7.  8.  9. 10.  0.  1.  2.  3.  4.  5.  6.  7.  8.  9. 10.] (990,)\n"
     ]
    }
   ],
   "source": [
    "vcX = vcdata[:, :-1]\n",
    "vcY = vcdata[:, -1]\n",
    "print(vcX, vcX.shape)\n",
    "print(vcY, vcY.shape)"
   ]
  },
  {
   "cell_type": "code",
   "execution_count": 13,
   "metadata": {},
   "outputs": [
    {
     "name": "stdout",
     "output_type": "stream",
     "text": [
      "{'copy': True, 'with_mean': True, 'with_std': True}\n"
     ]
    },
    {
     "data": {
      "text/plain": [
       "array([[-0.50113464, -1.24609747, -0.22798328, ...,  0.3358522 ,\n",
       "        -1.00201915, -1.23022154],\n",
       "       [-0.14191451, -1.17969631, -0.26171064, ...,  0.30269411,\n",
       "        -0.55806104, -0.69020068],\n",
       "       [ 1.24776079, -0.84088014, -1.50119087, ...,  0.59239116,\n",
       "        -0.88795876,  0.03700533],\n",
       "       ...,\n",
       "       [-0.89374382,  0.49139954,  0.80913284, ...,  0.3218909 ,\n",
       "        -0.82478686, -0.71007875],\n",
       "       [-1.22072625,  0.8881039 ,  0.80491692, ..., -0.83166181,\n",
       "        -0.98271662, -0.52786312],\n",
       "       [-0.10046604,  0.37647445, -0.24063104, ..., -0.38664526,\n",
       "        -1.30384047,  1.2727586 ]])"
      ]
     },
     "execution_count": 13,
     "metadata": {},
     "output_type": "execute_result"
    }
   ],
   "source": [
    "scaler = StandardScaler(copy=True, with_mean=True, with_std=True)\n",
    "vcX = scaler.fit_transform(vcX)\n",
    "print(scaler.get_params())\n",
    "vcX"
   ]
  },
  {
   "cell_type": "code",
   "execution_count": 14,
   "metadata": {},
   "outputs": [
    {
     "name": "stdout",
     "output_type": "stream",
     "text": [
      "vcX_train\n",
      "[[ 1.31914428 -2.1212307  -1.39017167 ...  1.68660833  0.1947375\n",
      "  -0.77302596]\n",
      " [-0.28468149  0.31943756 -0.4739119  ... -0.57686802 -1.36701238\n",
      "   1.37546196]\n",
      " [ 0.18046253 -0.52334639 -0.40926781 ... -0.06029979 -0.7510863\n",
      "  -0.59577985]\n",
      " ...\n",
      " [ 1.50681377 -0.95921041 -1.23699327 ...  0.62205893  0.05786504\n",
      "  -0.45497687]\n",
      " [-1.85281551 -0.71488819  1.96007877 ... -1.36917201 -0.19131303\n",
      "   2.12917206]\n",
      " [ 0.67784424 -0.59315274 -0.91939403 ...  0.20845531 -0.55630626\n",
      "  -0.39037314]] (742, 10)\n",
      "vcY_train\n",
      "[ 0. 10.  2.  8.  4.  8.  6.  7. 10.  9.  0.  1.  8.  6.  6.  8.  7.  6.\n",
      "  4. 10.  5.  7.  2.  1.  0.  8.  9.  6.  9.  0.  2.  2.  6.  1.  0.  4.\n",
      "  2.  6.  5.  1. 10.  6.  2.  0. 10.  7.  5.  8.  3.  3.  4.  2.  4.  9.\n",
      " 10.  3.  7. 10.  5.  5.  3.  1.  2.  6.  7. 10.  4.  3. 10.  7.  9.  6.\n",
      "  9.  8.  8.  7.  3.  4.  4. 10.  7.  3.  8.  1.  3.  6.  2.  4.  2. 10.\n",
      "  4.  6.  3.  3.  9.  6. 10.  3.  5.  6. 10.  7.  8. 10.  9.  4.  5.  0.\n",
      "  5.  5.  0.  1.  1.  4.  1.  8. 10.  1.  7.  5.  0.  6.  4.  8.  3. 10.\n",
      "  5.  6.  8.  1.  7.  2.  4.  5.  3.  3.  1. 10. 10.  1.  5.  6.  9.  4.\n",
      "  7.  4.  8. 10.  5.  8.  7.  5.  2.  6.  0.  7.  1.  0.  8.  3.  5.  9.\n",
      "  0.  7.  1.  9.  3.  8.  4.  0.  9.  0.  4.  4.  7.  6.  8.  4.  2.  7.\n",
      "  8.  1.  3. 10.  9.  4.  3.  7.  0.  4.  9.  0.  6.  1.  9.  1.  7.  7.\n",
      "  4.  4.  3.  1.  6.  0.  5.  1. 10.  9.  5.  6.  6.  6. 10.  5.  7.  2.\n",
      "  2.  8.  9.  0.  0. 10. 10.  9.  2.  5.  5.  5.  5.  6.  7.  2.  3.  9.\n",
      "  7.  1. 10.  9.  9.  8.  7.  1.  5.  5. 10.  1.  0.  2.  8.  2.  5.  7.\n",
      " 10.  5.  9.  0.  6.  8.  2.  0.  8.  0.  1. 10.  4.  8.  1.  7.  0.  7.\n",
      "  3.  9.  2.  8.  7. 10.  3.  8.  3.  2.  2.  4.  3.  4.  3.  7.  8.  8.\n",
      "  2.  0.  4.  7. 10.  7. 10.  3.  2.  3.  9.  0.  2.  3.  8.  5.  8.  6.\n",
      "  2.  9.  1.  6.  6.  3.  8.  2.  8.  6.  2.  5.  4.  5.  6.  7.  5.  5.\n",
      "  7.  7.  8.  0.  6.  0. 10.  1. 10.  5.  3.  2.  9.  2.  9.  1.  4.  0.\n",
      "  0.  6.  5.  1.  9.  4.  3.  9.  3.  6.  3.  9.  9.  6.  4.  9.  0.  6.\n",
      "  0.  9.  2.  8.  2.  8.  1. 10. 10.  3.  7.  7.  7.  4.  1.  1.  8.  0.\n",
      "  5.  0.  1.  3.  4.  6.  3.  1.  9.  8.  8.  6. 10. 10.  3.  2.  9.  4.\n",
      "  1. 10.  6. 10.  9.  4.  3.  8.  4.  1.  8.  2. 10.  7.  5.  3.  1.  0.\n",
      "  1. 10.  7.  3.  8.  9.  7.  5.  4.  6.  9.  0.  8.  7.  2.  0.  7.  5.\n",
      "  0.  3.  3.  6.  5.  3.  8.  3. 10.  1.  6.  3.  3.  7.  4.  2.  9.  5.\n",
      "  0.  3.  6.  2.  2.  4.  8. 10.  2.  4.  6.  5.  1.  3.  4.  7.  1.  1.\n",
      "  7.  0.  0.  0.  0.  6.  8.  1.  0.  1.  9.  0.  7.  8.  8.  7.  2.  4.\n",
      " 10.  6.  3.  8.  0.  5.  7.  8.  1.  3.  1.  6.  3.  0.  8.  4. 10.  1.\n",
      "  9.  8.  0.  6.  1.  3.  1.  2.  7.  7.  9.  8.  8.  1.  1.  9.  9.  2.\n",
      " 10.  4.  8.  3.  1.  8.  1.  7.  7.  0.  5.  1.  8.  2.  1.  5.  7.  2.\n",
      "  3.  0.  6.  9.  0.  3.  5. 10.  4.  7.  1.  7.  5.  4. 10.  6. 10.  3.\n",
      "  2.  8.  9. 10.  5.  6.  6.  9.  7. 10.  5.  0.  6.  8.  4.  8.  8.  5.\n",
      "  9.  0.  3.  1.  6. 10.  3. 10.  0.  0. 10.  9.  8.  3.  2.  3.  8.  1.\n",
      "  4.  1.  0.  5.  2.  0.  2.  8.  2. 10.  3.  9.  6.  1.  2.  5.  7.  6.\n",
      "  9.  3.  5.  4.  5.  2.  3.  2.  6.  8.  3.  1. 10.  7.  6.  9.  4.  9.\n",
      "  8. 10.  6. 10.  4. 10.  7.  0.  0. 10.  4. 10. 10.  4.  3.  4.  5.  5.\n",
      "  7.  6.  4.  6.  2.  5.  3.  5.  1.  9.  9.  1.  5.  2.  2.  4.  8.  2.\n",
      "  2.  9.  1.  3.  5.  9.  8.  4.  0. 10.  9.  2.  7. 10.  6.  7.  2.  8.\n",
      "  4.  4.  8.  2. 10.  4.  5.  1.  4.  1.  2.  5.  8.  4. 10.  5. 10.  1.\n",
      "  0.  3.  8.  2.  0.  5.  7.  5.  3.  7.  6.  9.  9.  6.  2.  5.  9. 10.\n",
      "  1.  2.  1.  6.  0.  6. 10.  4.  5.  1.  6.  2.  8.  9.  7.  3.  4. 10.\n",
      "  5.  2.  9.  2.] (742,)\n",
      "vcX_test\n",
      "[[-0.07053103  0.04361736  0.26949518 ... -0.35348716  0.25089031\n",
      "  -1.52342306]\n",
      " [-1.78373472  1.31034717  0.44796909 ...  0.36551997  0.74749167\n",
      "  -0.42184675]\n",
      " [ 0.17815983 -1.53043064  2.09217757 ... -1.40058494 -0.46505795\n",
      "  -0.12864524]\n",
      " ...\n",
      " [-0.14191451 -1.17969631 -0.26171064 ...  0.30269411 -0.55806104\n",
      "  -0.69020068]\n",
      " [ 0.21730562  0.29815514 -0.54979845 ... -1.37615266  0.59307146\n",
      "  -0.14024078]\n",
      " [ 0.15743559  0.56801626 -0.48234374 ... -0.33080005 -0.53173941\n",
      "   0.4312537 ]] (248, 10)\n",
      "vcY_test\n",
      "[10.  9.  1.  9.  1.  5.  7.  9.  8.  6.  0.  0.  1.  9.  2.  3.  1. 10.\n",
      "  8.  6.  9.  7.  8.  0.  0.  2.  5.  0.  5.  7.  3.  2.  0. 10.  6.  9.\n",
      "  9.  6.  7.  0.  0.  4.  7.  2.  5.  3.  0.  4.  4.  4. 10.  1.  4.  4.\n",
      "  8.  8. 10.  9.  6.  1.  5.  5.  2.  5.  0.  7.  0.  9.  7.  9.  6.  6.\n",
      "  7.  5.  7.  1.  5.  7.  1.  7.  3.  4.  4.  2. 10.  9.  7.  0.  8. 10.\n",
      "  5.  0.  9.  3. 10.  9.  3.  0.  3.  4.  0.  8.  9.  1.  1.  4.  0.  5.\n",
      "  6.  7.  7.  8.  9.  6.  2.  9.  2.  5.  9.  7.  3.  0.  5.  3.  3. 10.\n",
      "  9.  8.  4.  4.  2.  6.  1.  8. 10.  3.  4.  6. 10.  1.  6.  8.  1.  0.\n",
      "  5.  0. 10.  4.  5.  4.  2.  9.  8.  8.  9. 10. 10.  8.  3.  5.  2. 10.\n",
      "  4.  4.  2.  0.  7.  1. 10.  9.  1.  6.  3.  3.  4.  0.  1.  9.  6.  2.\n",
      "  5.  8.  0.  1.  4.  7.  7.  9.  9.  1.  6.  5.  2.  0.  8.  6.  4.  3.\n",
      " 10.  4.  3.  6. 10.  4.  0.  7.  2.  7.  7.  6.  0.  2.  4.  7.  2.  3.\n",
      "  6.  3. 10.  7.  2.  1.  6.  5.  3.  5.  2.  3.  2.  2.  6.  2.  0.  9.\n",
      "  4.  6.  8.  4.  9.  7.  6.  5.  0.  9.  5.  1.  5. 10.] (248,)\n"
     ]
    }
   ],
   "source": [
    "vcX_train, vcX_test, vcY_train, vcY_test = train_test_split(vcX, vcY, random_state=0, shuffle=True)\n",
    "print(\"vcX_train\")\n",
    "print(vcX_train, vcX_train.shape)\n",
    "print(\"vcY_train\")\n",
    "print(vcY_train, vcY_train.shape)\n",
    "print(\"vcX_test\")\n",
    "print(vcX_test, vcX_test.shape)\n",
    "print(\"vcY_test\")\n",
    "print(vcY_test, vcY_test.shape)"
   ]
  },
  {
   "cell_type": "code",
   "execution_count": 15,
   "metadata": {},
   "outputs": [
    {
     "name": "stdout",
     "output_type": "stream",
     "text": [
      "Course Grid Search:\n",
      "\n",
      "Best parameters found for SVC on vowel-context.data:\n",
      "\n",
      "{'C': 10, 'gamma': 0.1, 'kernel': 'rbf'}\n",
      "\n",
      "Best Fitting Log Loss Score:\n",
      "-0.22469136800032466\n",
      "\n",
      "Classification Report for these parameters:\n",
      "              precision    recall  f1-score   support\n",
      "\n",
      "         0.0       1.00      1.00      1.00        27\n",
      "         1.0       1.00      1.00      1.00        20\n",
      "         2.0       1.00      1.00      1.00        22\n",
      "         3.0       1.00      1.00      1.00        20\n",
      "         4.0       0.96      1.00      0.98        25\n",
      "         5.0       1.00      0.91      0.95        23\n",
      "         6.0       1.00      1.00      1.00        23\n",
      "         7.0       1.00      1.00      1.00        24\n",
      "         8.0       1.00      1.00      1.00        17\n",
      "         9.0       1.00      1.00      1.00        27\n",
      "        10.0       0.95      1.00      0.98        20\n",
      "\n",
      "   micro avg       0.99      0.99      0.99       248\n",
      "   macro avg       0.99      0.99      0.99       248\n",
      "weighted avg       0.99      0.99      0.99       248\n",
      "\n"
     ]
    },
    {
     "name": "stderr",
     "output_type": "stream",
     "text": [
      "/home/ilumsden/miniconda3/lib/python3.6/site-packages/sklearn/model_selection/_search.py:841: DeprecationWarning: The default of the `iid` parameter will change from True to False in version 0.22 and will be removed in 0.24. This will change numeric results when test-set sizes are unequal.\n",
      "  DeprecationWarning)\n"
     ]
    }
   ],
   "source": [
    "gs_params = [\n",
    "    {\"kernel\": [\"linear\"], \"C\": [0.01, 0.1, 1, 10, 100, 1000]},\n",
    "    {\"kernel\": [\"poly\"], \"degree\": [2, 3, 4], \"C\": [0.01, 0.1, 1, 10, 100, 1000], \"gamma\": [1, 0.1, 0.01, 0.001, 0.0001]},\n",
    "    {\"kernel\": [\"rbf\"], \"C\": [0.01, 0.1, 1, 10, 100, 1000], \"gamma\": [1, 0.1, 0.01, 0.001, 0.0001]}\n",
    "]\n",
    "coarse_search = GridSearchCV(estimator=SVC(probability=True), param_grid=gs_params, cv=3, scoring=\"neg_log_loss\", n_jobs=-1)\n",
    "coarse_search.fit(vcX_train, vcY_train)\n",
    "print(\"Course Grid Search:\\n\")\n",
    "print(\"Best parameters found for SVC on vowel-context.data:\")\n",
    "print()\n",
    "print(coarse_search.best_params_)\n",
    "print()\n",
    "print(\"Best Fitting Log Loss Score:\")\n",
    "print(coarse_search.best_score_)\n",
    "print()\n",
    "print(\"Classification Report for these parameters:\")\n",
    "y_true, y_pred = vcY_test, coarse_search.predict(vcX_test)\n",
    "print(classification_report(y_true, y_pred))"
   ]
  },
  {
   "cell_type": "code",
   "execution_count": 16,
   "metadata": {},
   "outputs": [
    {
     "name": "stdout",
     "output_type": "stream",
     "text": [
      "Fine Grid Search:\n",
      "\n",
      "Best parameters found for SVC on vowel-context.data:\n",
      "\n",
      "{'C': 10.5, 'gamma': 0.12000000000000004, 'kernel': 'rbf'}\n",
      "\n",
      "Best Fitting Log Loss Score:\n",
      "-0.2163932448525439\n",
      "\n",
      "Classification Report for these parameters:\n",
      "              precision    recall  f1-score   support\n",
      "\n",
      "         0.0       1.00      1.00      1.00        27\n",
      "         1.0       1.00      1.00      1.00        20\n",
      "         2.0       1.00      1.00      1.00        22\n",
      "         3.0       1.00      1.00      1.00        20\n",
      "         4.0       1.00      1.00      1.00        25\n",
      "         5.0       1.00      0.96      0.98        23\n",
      "         6.0       1.00      1.00      1.00        23\n",
      "         7.0       1.00      1.00      1.00        24\n",
      "         8.0       1.00      1.00      1.00        17\n",
      "         9.0       1.00      1.00      1.00        27\n",
      "        10.0       0.95      1.00      0.98        20\n",
      "\n",
      "   micro avg       1.00      1.00      1.00       248\n",
      "   macro avg       1.00      1.00      1.00       248\n",
      "weighted avg       1.00      1.00      1.00       248\n",
      "\n",
      "\n",
      "Testing Log Loss Score:\n",
      "0.10246953863427469\n"
     ]
    },
    {
     "name": "stderr",
     "output_type": "stream",
     "text": [
      "/home/ilumsden/miniconda3/lib/python3.6/site-packages/sklearn/model_selection/_search.py:841: DeprecationWarning: The default of the `iid` parameter will change from True to False in version 0.22 and will be removed in 0.24. This will change numeric results when test-set sizes are unequal.\n",
      "  DeprecationWarning)\n"
     ]
    }
   ],
   "source": [
    "gs_params = [\n",
    "    {\"kernel\": [\"rbf\"], \"C\": np.arange(7.5, 12.5, 0.5), \"gamma\": np.arange(0.075, 0.125, 0.005)}\n",
    "]\n",
    "coarse_search = GridSearchCV(estimator=SVC(probability=True), param_grid=gs_params, cv=3, scoring=\"neg_log_loss\", n_jobs=-1)\n",
    "coarse_search.fit(vcX_train, vcY_train)\n",
    "print(\"Fine Grid Search:\\n\")\n",
    "print(\"Best parameters found for SVC on vowel-context.data:\")\n",
    "print()\n",
    "print(coarse_search.best_params_)\n",
    "print()\n",
    "print(\"Best Fitting Log Loss Score:\")\n",
    "print(coarse_search.best_score_)\n",
    "print()\n",
    "print(\"Classification Report for these parameters:\")\n",
    "y_true, y_pred = vcY_test, coarse_search.predict(vcX_test)\n",
    "proba = coarse_search.predict_proba(vcX_test)\n",
    "print(classification_report(y_true, y_pred))\n",
    "print()\n",
    "print(\"Testing Log Loss Score:\")\n",
    "print(log_loss(y_true, proba))"
   ]
  },
  {
   "cell_type": "markdown",
   "metadata": {},
   "source": [
    "# Part 3\n",
    "\n",
    "Uses `sat.trn` and `sat.tst`"
   ]
  },
  {
   "cell_type": "code",
   "execution_count": 17,
   "metadata": {},
   "outputs": [
    {
     "name": "stdout",
     "output_type": "stream",
     "text": [
      "[[ 92. 115. 120. ... 113.  87.   3.]\n",
      " [ 84. 102. 106. ... 104.  79.   3.]\n",
      " [ 84. 102. 102. ... 104.  79.   3.]\n",
      " ...\n",
      " [ 68.  75. 108. ... 104.  85.   4.]\n",
      " [ 71.  87. 108. ... 104.  85.   4.]\n",
      " [ 71.  91. 100. ... 100.  81.   4.]] (4435, 37)\n",
      "[[ 80. 102. 102. ... 113.  87.   3.]\n",
      " [ 76. 102. 102. ... 104.  83.   3.]\n",
      " [ 80.  98. 106. ...  96.  75.   4.]\n",
      " ...\n",
      " [ 56.  68.  91. ...  92.  74.   5.]\n",
      " [ 56.  68.  87. ...  92.  70.   5.]\n",
      " [ 60.  71.  91. ... 108.  92.   5.]] (2000, 37)\n"
     ]
    }
   ],
   "source": [
    "trn = np.loadtxt(\"sat.trn\", dtype=np.float64)\n",
    "tst = np.loadtxt(\"sat.tst\", dtype=np.float64)\n",
    "print(trn, trn.shape)\n",
    "print(tst, tst.shape)"
   ]
  },
  {
   "cell_type": "code",
   "execution_count": 18,
   "metadata": {},
   "outputs": [],
   "source": [
    "trnX = trn[:, :-1]\n",
    "trnY = trn[:, -1]\n",
    "tstX = tst[:, :-1]\n",
    "tstY = tst[:, -1]"
   ]
  },
  {
   "cell_type": "code",
   "execution_count": 19,
   "metadata": {},
   "outputs": [
    {
     "name": "stdout",
     "output_type": "stream",
     "text": [
      "{'copy': True, 'with_mean': True, 'with_std': True}\n",
      "trnX\n",
      "[[ 1.6504898   1.37065618  1.24035744 ...  1.04773951  0.83669871\n",
      "   0.23370924]\n",
      " [ 1.06432744  0.79853645  0.40053984 ...  0.69624747  0.29644556\n",
      "  -0.18971944]\n",
      " [ 1.06432744  0.79853645  0.16059195 ...  0.69624747  0.29644556\n",
      "  -0.18971944]\n",
      " ...\n",
      " [-0.10799728 -0.38971222  0.52051378 ...  0.74018398  0.29644556\n",
      "   0.12785207]\n",
      " [ 0.11181361  0.1383983   0.52051378 ...  0.34475544  0.29644556\n",
      "   0.12785207]\n",
      " [ 0.11181361  0.31443514  0.04061801 ...  0.34475544  0.05633305\n",
      "  -0.08386227]] (4435, 36)\n",
      "trnY\n",
      "[3. 3. 3. ... 4. 4. 4.] (4435,)\n",
      "tstX\n",
      "[[ 0.77124626  0.79853645  0.16059195 ...  1.04773951  0.83669871\n",
      "   0.23370924]\n",
      " [ 0.47816508  0.79853645  0.16059195 ...  0.87199349  0.29644556\n",
      "   0.0219949 ]\n",
      " [ 0.77124626  0.62249961  0.40053984 ...  0.52050146 -0.18377946\n",
      "  -0.40143378]\n",
      " ...\n",
      " [-0.98724082 -0.69777669 -0.49926473 ... -0.0067366  -0.42389197\n",
      "  -0.45436237]\n",
      " [-0.98724082 -0.69777669 -0.73921262 ... -0.0067366  -0.42389197\n",
      "  -0.66607671]\n",
      " [-0.69415964 -0.56574906 -0.49926473 ... -0.18248262  0.53655807\n",
      "   0.49835217]] (2000, 36)\n",
      "tstY\n",
      "[3. 3. 4. ... 5. 5. 5.] (2000,)\n"
     ]
    }
   ],
   "source": [
    "scaler = StandardScaler(copy=True, with_mean=True, with_std=True)\n",
    "trnX = scaler.fit_transform(trnX)\n",
    "print(scaler.get_params())\n",
    "tstX = scaler.transform(tstX)\n",
    "print(\"trnX\")\n",
    "print(trnX, trnX.shape)\n",
    "print(\"trnY\")\n",
    "print(trnY, trnY.shape)\n",
    "print(\"tstX\")\n",
    "print(tstX, tstX.shape)\n",
    "print(\"tstY\")\n",
    "print(tstY, tstY.shape)"
   ]
  },
  {
   "cell_type": "code",
   "execution_count": 20,
   "metadata": {},
   "outputs": [
    {
     "name": "stdout",
     "output_type": "stream",
     "text": [
      "Course Grid Search:\n",
      "\n",
      "Best parameters found for SVC on sat data:\n",
      "\n",
      "{'C': 0.1, 'gamma': 0.1, 'kernel': 'rbf'}\n",
      "\n",
      "Best Fitting Log Loss Score:\n",
      "-0.4617627098415815\n",
      "\n",
      "Classification Report for these parameters:\n",
      "              precision    recall  f1-score   support\n",
      "\n",
      "         1.0       0.95      0.99      0.97       461\n",
      "         2.0       0.93      0.99      0.96       224\n",
      "         3.0       0.86      0.96      0.90       397\n",
      "         4.0       0.74      0.52      0.61       211\n",
      "         5.0       0.93      0.77      0.84       237\n",
      "         7.0       0.83      0.87      0.85       470\n",
      "\n",
      "   micro avg       0.88      0.88      0.88      2000\n",
      "   macro avg       0.87      0.85      0.86      2000\n",
      "weighted avg       0.88      0.88      0.87      2000\n",
      "\n"
     ]
    }
   ],
   "source": [
    "gs_params = [\n",
    "    {\"kernel\": [\"linear\"], \"C\": [0.01, 0.1, 1, 10, 100, 1000]},\n",
    "    {\"kernel\": [\"poly\"], \"degree\": [2, 3, 4], \"C\": [0.01, 0.1, 1, 10, 100, 1000], \"gamma\": [1, 0.1, 0.01, 0.001, 0.0001]},\n",
    "    {\"kernel\": [\"rbf\"], \"C\": [0.01, 0.1, 1, 10, 100, 1000], \"gamma\": [1, 0.1, 0.01, 0.001, 0.0001]}\n",
    "]\n",
    "coarse_search = GridSearchCV(estimator=SVC(probability=True), param_grid=gs_params, cv=2, scoring=\"neg_log_loss\", n_jobs=-1)\n",
    "coarse_search.fit(trnX, trnY)\n",
    "print(\"Course Grid Search:\\n\")\n",
    "print(\"Best parameters found for SVC on sat data:\")\n",
    "print()\n",
    "print(coarse_search.best_params_)\n",
    "print()\n",
    "print(\"Best Fitting Log Loss Score:\")\n",
    "print(coarse_search.best_score_)\n",
    "print()\n",
    "print(\"Classification Report for these parameters:\")\n",
    "y_true, y_pred = tstY, coarse_search.predict(tstX)\n",
    "print(classification_report(y_true, y_pred))"
   ]
  },
  {
   "cell_type": "code",
   "execution_count": 21,
   "metadata": {},
   "outputs": [
    {
     "name": "stderr",
     "output_type": "stream",
     "text": [
      "/home/ilumsden/miniconda3/lib/python3.6/site-packages/sklearn/model_selection/_search.py:841: DeprecationWarning: The default of the `iid` parameter will change from True to False in version 0.22 and will be removed in 0.24. This will change numeric results when test-set sizes are unequal.\n",
      "  DeprecationWarning)\n"
     ]
    },
    {
     "name": "stdout",
     "output_type": "stream",
     "text": [
      "Fine Grid Search:\n",
      "\n",
      "Best parameters found for SVC on sat data:\n",
      "\n",
      "{'C': 0.075, 'gamma': 0.12000000000000004, 'kernel': 'rbf'}\n",
      "\n",
      "Best Fitting Log Loss Score:\n",
      "-0.46043514812030534\n",
      "\n",
      "Classification Report for these parameters:\n",
      "              precision    recall  f1-score   support\n",
      "\n",
      "         1.0       0.95      0.99      0.97       461\n",
      "         2.0       0.89      0.99      0.93       224\n",
      "         3.0       0.85      0.95      0.90       397\n",
      "         4.0       0.74      0.51      0.61       211\n",
      "         5.0       0.94      0.75      0.83       237\n",
      "         7.0       0.83      0.87      0.85       470\n",
      "\n",
      "   micro avg       0.88      0.88      0.88      2000\n",
      "   macro avg       0.87      0.84      0.85      2000\n",
      "weighted avg       0.87      0.88      0.87      2000\n",
      "\n",
      "\n",
      "Testing Log Loss Score:\n",
      "0.31276157784502484\n"
     ]
    }
   ],
   "source": [
    "gs_params = [\n",
    "    {\"kernel\": [\"rbf\"], \"C\": np.arange(0.075, 0.125, 0.005), \"gamma\": np.arange(0.075, 0.125, 0.005)}\n",
    "]\n",
    "coarse_search = GridSearchCV(estimator=SVC(probability=True), param_grid=gs_params, cv=3, scoring=\"neg_log_loss\", n_jobs=-1)\n",
    "coarse_search.fit(trnX, trnY)\n",
    "print(\"Fine Grid Search:\\n\")\n",
    "print(\"Best parameters found for SVC on sat data:\")\n",
    "print()\n",
    "print(coarse_search.best_params_)\n",
    "print()\n",
    "print(\"Best Fitting Log Loss Score:\")\n",
    "print(coarse_search.best_score_)\n",
    "print()\n",
    "print(\"Classification Report for these parameters:\")\n",
    "y_true, y_pred = tstY, coarse_search.predict(tstX)\n",
    "proba = coarse_search.predict_proba(tstX)\n",
    "print(classification_report(y_true, y_pred))\n",
    "print()\n",
    "print(\"Testing Log Loss Score:\")\n",
    "print(log_loss(y_true, proba))"
   ]
  }
 ],
 "metadata": {
  "kernelspec": {
   "display_name": "Python 3",
   "language": "python",
   "name": "python3"
  },
  "language_info": {
   "codemirror_mode": {
    "name": "ipython",
    "version": 3
   },
   "file_extension": ".py",
   "mimetype": "text/x-python",
   "name": "python",
   "nbconvert_exporter": "python",
   "pygments_lexer": "ipython3",
   "version": "3.6.6"
  }
 },
 "nbformat": 4,
 "nbformat_minor": 2
}
